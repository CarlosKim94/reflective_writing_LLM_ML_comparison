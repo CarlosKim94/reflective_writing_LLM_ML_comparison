{
 "cells": [
  {
   "cell_type": "code",
   "execution_count": 2,
   "id": "7aae93c4-b3a4-495d-b2a5-03c41c81805c",
   "metadata": {},
   "outputs": [],
   "source": [
    "import pandas as pd\n",
    "import numpy as np\n",
    "import torch\n",
    "import seaborn as sns\n",
    "import matplotlib.pyplot as plt\n",
    "from sklearn.model_selection import train_test_split\n",
    "from sklearn.feature_extraction.text import TfidfVectorizer\n",
    "from sklearn.svm import SVC, SVR\n",
    "from sklearn.ensemble import RandomForestClassifier\n",
    "from sklearn.preprocessing import OrdinalEncoder\n",
    "from sklearn.metrics import classification_report, accuracy_score, cohen_kappa_score, confusion_matrix\n",
    "from imblearn.over_sampling import RandomOverSampler\n",
    "import warnings\n",
    "warnings.filterwarnings(\"ignore\")"
   ]
  },
  {
   "cell_type": "code",
   "execution_count": 3,
   "id": "d12277a3-ef27-44e1-a15f-7d148ea4c349",
   "metadata": {},
   "outputs": [
    {
     "name": "stdout",
     "output_type": "stream",
     "text": [
      "               Dokumentname         Code  Anfang  Ende  \\\n",
      "0  reflection_assignment_P1      Level 1       1     1   \n",
      "1  reflection_assignment_P1      Level 1       1     1   \n",
      "2  reflection_assignment_P1      Level 1       1     1   \n",
      "3  reflection_assignment_P1  Level 2 (a)       1     1   \n",
      "4  reflection_assignment_P1  Level 2 (a)       1     1   \n",
      "\n",
      "                                             Segment  \n",
      "0  I am a newbie in data science (DS). On the one...  \n",
      "1  However, the handling of data in basic cogniti...  \n",
      "2  The HCDS course was largely aimed at a critica...  \n",
      "3  Among these topics, some messages particularly...  \n",
      "4  First of all, I became aware of the importance...  \n"
     ]
    }
   ],
   "source": [
    "df = pd.read_csv(\"Coded_Segments.csv\")\n",
    "print(df.head())"
   ]
  },
  {
   "cell_type": "code",
   "execution_count": 4,
   "id": "8d4a94ba-6598-419b-a1ba-506d4c182c6d",
   "metadata": {},
   "outputs": [
    {
     "data": {
      "text/plain": [
       "Code\n",
       "Level 3        90\n",
       "Level 1        69\n",
       "Level 2 (b)    41\n",
       "Level 2 (a)    31\n",
       "Level 4         6\n",
       "Name: count, dtype: int64"
      ]
     },
     "execution_count": 4,
     "metadata": {},
     "output_type": "execute_result"
    }
   ],
   "source": [
    "df['Code'].value_counts()"
   ]
  },
  {
   "cell_type": "code",
   "execution_count": 5,
   "id": "9b1cb1dc-7076-4e07-9f37-4daa972dcb5c",
   "metadata": {},
   "outputs": [
    {
     "data": {
      "text/plain": [
       "(array([69.,  0., 31.,  0.,  0., 41.,  0., 90.,  0.,  6.]),\n",
       " array([0. , 0.4, 0.8, 1.2, 1.6, 2. , 2.4, 2.8, 3.2, 3.6, 4. ]),\n",
       " <BarContainer object of 10 artists>)"
      ]
     },
     "execution_count": 5,
     "metadata": {},
     "output_type": "execute_result"
    },
    {
     "data": {
      "image/png": "[encoded data removed]",
      "text/plain": [
       "<Figure size 640x480 with 1 Axes>"
      ]
     },
     "metadata": {},
     "output_type": "display_data"
    }
   ],
   "source": [
    "plt.hist(sorted(df['Code']))"
   ]
  },
  {
   "cell_type": "code",
   "execution_count": 6,
   "id": "50f2fb84-4329-4653-894d-0996d96ac8b2",
   "metadata": {},
   "outputs": [],
   "source": [
    "def preprocess_data(df: pd.DataFrame) -> pd.DataFrame:\n",
    "    ordinal_mapping = ['Level 1', 'Level 2 (a)', 'Level 2 (b)', 'Level 3', 'Level 4']  # Ensure correct order\n",
    "    oe = OrdinalEncoder(categories=[ordinal_mapping]) # Define order\n",
    "    df['class'] = oe.fit_transform(df[['Code']]).astype(int).flatten()\n",
    "\n",
    "    # handle imbalanced dataset\n",
    "    ros = RandomOverSampler(random_state=42)\n",
    "    X_resampled, y_resampled = ros.fit_resample(df[['Segment']], df['class'])\n",
    "    df_resampled = pd.DataFrame({'Segment': X_resampled['Segment'], 'class': y_resampled})\n",
    "\n",
    "    print(f\"Original dataset shape: {df.shape}\")\n",
    "    print(f\"Resampled dataset shape: {df_resampled.shape}\")\n",
    "\n",
    "    return df_resampled, oe"
   ]
  },
  {
   "cell_type": "code",
   "execution_count": 7,
   "id": "20714124-c9cc-4de9-923e-a732d5fcc6bb",
   "metadata": {},
   "outputs": [
    {
     "name": "stdout",
     "output_type": "stream",
     "text": [
      "Original dataset shape: (237, 6)\n",
      "Resampled dataset shape: (450, 2)\n",
      "                                               Segment  class\n",
      "0    I am a newbie in data science (DS). On the one...      0\n",
      "1    However, the handling of data in basic cogniti...      0\n",
      "2    The HCDS course was largely aimed at a critica...      0\n",
      "3    Among these topics, some messages particularly...      1\n",
      "4    First of all, I became aware of the importance...      1\n",
      "..                                                 ...    ...\n",
      "445  The first concern, to begin  with, is to check...      4\n",
      "446  The first concern, to begin  with, is to check...      4\n",
      "447  Social nuances have shown how important it is ...      4\n",
      "448  It also made me realise the high personal resp...      4\n",
      "449  As an when my experience grew, I started to un...      4\n",
      "\n",
      "[450 rows x 2 columns]\n"
     ]
    }
   ],
   "source": [
    "df_resampled, ordinal_encoder = preprocess_data(df)\n",
    "print(df_resampled)"
   ]
  },
  {
   "cell_type": "code",
   "execution_count": 8,
   "id": "40594027-c99b-4c68-92b8-e03f3cb1a75b",
   "metadata": {},
   "outputs": [
    {
     "data": {
      "text/plain": [
       "class\n",
       "0    90\n",
       "1    90\n",
       "4    90\n",
       "2    90\n",
       "3    90\n",
       "Name: count, dtype: int64"
      ]
     },
     "execution_count": 8,
     "metadata": {},
     "output_type": "execute_result"
    }
   ],
   "source": [
    "df_resampled['class'].value_counts()"
   ]
  },
  {
   "cell_type": "code",
   "execution_count": 9,
   "id": "1b9cac4e-2974-4981-af05-56672f879099",
   "metadata": {},
   "outputs": [
    {
     "data": {
      "text/plain": [
       "(array([90.,  0., 90.,  0.,  0., 90.,  0., 90.,  0., 90.]),\n",
       " array([0. , 0.4, 0.8, 1.2, 1.6, 2. , 2.4, 2.8, 3.2, 3.6, 4. ]),\n",
       " <BarContainer object of 10 artists>)"
      ]
     },
     "execution_count": 9,
     "metadata": {},
     "output_type": "execute_result"
    },
    {
     "data": {
      "image/png": "[encoded data removed]",
      "text/plain": [
       "<Figure size 640x480 with 1 Axes>"
      ]
     },
     "metadata": {},
     "output_type": "display_data"
    }
   ],
   "source": [
    "plt.hist(sorted(df_resampled['class']))"
   ]
  },
  {
   "cell_type": "code",
   "execution_count": 10,
   "id": "c9855e4f-634c-4420-98fe-09282681fe5b",
   "metadata": {},
   "outputs": [],
   "source": [
    "# Preprocessing\n",
    "# Split into training, validation and test sets\n",
    "train_df, temp_df = train_test_split(df_resampled, test_size=0.3, stratify=df_resampled['class'], random_state=42)\n",
    "val_df, test_df = train_test_split(temp_df, test_size=0.5, stratify=temp_df['class'], random_state=42)\n",
    "\n",
    "# Extract text and labels\n",
    "X_train, y_train = train_df['Segment'], train_df['class']\n",
    "X_val, y_val = val_df['Segment'], val_df['class']\n",
    "X_test, y_test = test_df['Segment'], test_df['class']\n",
    "\n",
    "# Convert text to numerical features using TF-IDF\n",
    "vectorizer = TfidfVectorizer(stop_words='english', max_features=5000)\n",
    "X_train_tfidf = vectorizer.fit_transform(X_train)\n",
    "X_val_tfidf = vectorizer.transform(X_val)\n",
    "X_test_tfidf = vectorizer.transform(X_test)"
   ]
  },
  {
   "cell_type": "code",
   "execution_count": 11,
   "id": "116a885b-0d46-408f-806d-a9f2bbae6681",
   "metadata": {},
   "outputs": [
    {
     "name": "stdout",
     "output_type": "stream",
     "text": [
      "Validation Set Results:\n",
      "Accuracy: 0.63\n",
      "Cohen's Kappa: 0.53\n",
      "Classification Report:\n",
      "              precision    recall  f1-score   support\n",
      "\n",
      "           0       1.00      0.15      0.27        13\n",
      "           1       0.52      0.93      0.67        14\n",
      "           2       0.50      1.00      0.67        13\n",
      "           3       0.00      0.00      0.00        13\n",
      "           4       1.00      1.00      1.00        14\n",
      "\n",
      "    accuracy                           0.63        67\n",
      "   macro avg       0.60      0.62      0.52        67\n",
      "weighted avg       0.61      0.63      0.53        67\n",
      "\n"
     ]
    },
    {
     "data": {
      "image/png": "[encoded data removed]",
      "text/plain": [
       "<Figure size 600x400 with 2 Axes>"
      ]
     },
     "metadata": {},
     "output_type": "display_data"
    },
    {
     "name": "stdout",
     "output_type": "stream",
     "text": [
      "\n",
      "Test Set Results:\n",
      "Accuracy: 0.63\n",
      "Cohen's Kappa: 0.54\n",
      "Classification Report:\n",
      "              precision    recall  f1-score   support\n",
      "\n",
      "           0       1.00      0.29      0.44        14\n",
      "           1       0.52      0.92      0.67        13\n",
      "           2       0.48      0.93      0.63        14\n",
      "           3       1.00      0.07      0.13        14\n",
      "           4       1.00      1.00      1.00        13\n",
      "\n",
      "    accuracy                           0.63        68\n",
      "   macro avg       0.80      0.64      0.58        68\n",
      "weighted avg       0.80      0.63      0.57        68\n",
      "\n"
     ]
    },
    {
     "data": {
      "image/png": "[encoded data removed]",
      "text/plain": [
       "<Figure size 600x400 with 2 Axes>"
      ]
     },
     "metadata": {},
     "output_type": "display_data"
    }
   ],
   "source": [
    "# Train SVM Ordinal Regression (SVR with linear kernel)\n",
    "ordinal_svm = SVR(kernel=\"linear\")\n",
    "ordinal_svm.fit(X_train_tfidf, y_train)\n",
    "\n",
    "# Predictions (round to nearest class)\n",
    "ordsvm_y_val_pred = ordinal_svm.predict(X_val_tfidf).round().astype(int)\n",
    "ordsvm_y_test_pred = ordinal_svm.predict(X_test_tfidf).round().astype(int)\n",
    "\n",
    "# Ensure predictions are within class range\n",
    "ordsvm_y_val_pred = np.clip(ordsvm_y_val_pred, np.min(y_train), np.max(y_train))\n",
    "ordsvm_y_test_pred = np.clip(ordsvm_y_test_pred, np.min(y_train), np.max(y_train))\n",
    "\n",
    "# Evaludation metrics for validation set\n",
    "ordsvm_val_accuracy = accuracy_score(y_val, ordsvm_y_val_pred)\n",
    "ordsvm_val_class_report = classification_report(y_val, ordsvm_y_val_pred, zero_division=0)\n",
    "ordsvm_val_cohen_kappa = cohen_kappa_score(y_val, ordsvm_y_val_pred)\n",
    "ordsvm_val_cm = confusion_matrix(y_val, ordsvm_y_val_pred)\n",
    "\n",
    "# Evaludation metrics for test set\n",
    "ordsvm_test_accuracy = accuracy_score(y_test, ordsvm_y_test_pred)\n",
    "ordsvm_test_class_report = classification_report(y_test, ordsvm_y_test_pred, zero_division=0)\n",
    "ordsvm_test_cohen_kappa = cohen_kappa_score(y_test, ordsvm_y_test_pred)\n",
    "ordsvm_test_cm = confusion_matrix(y_test, ordsvm_y_test_pred)\n",
    "\n",
    "# Print results\n",
    "print(\"Validation Set Results:\")\n",
    "print(f\"Accuracy: {ordsvm_val_accuracy:.2f}\")\n",
    "print(f\"Cohen's Kappa: {ordsvm_val_cohen_kappa:.2f}\")\n",
    "print(\"Classification Report:\")\n",
    "print(ordsvm_val_class_report)\n",
    "plt.figure(figsize=(6,4))\n",
    "sns.heatmap(ordsvm_val_cm, annot=True, fmt='d', cmap='Blues', xticklabels=sorted(set(y_val)), yticklabels=sorted(set(y_val)))\n",
    "plt.xlabel(\"Predicted Label\")\n",
    "plt.ylabel(\"True Label\")\n",
    "plt.title(\"Validation Confusion Matrix\")\n",
    "plt.show()\n",
    "\n",
    "print(\"\\nTest Set Results:\")\n",
    "print(f\"Accuracy: {ordsvm_test_accuracy:.2f}\")\n",
    "print(f\"Cohen's Kappa: {ordsvm_test_cohen_kappa:.2f}\")\n",
    "print(\"Classification Report:\")\n",
    "print(ordsvm_test_class_report)\n",
    "plt.figure(figsize=(6,4))\n",
    "sns.heatmap(ordsvm_test_cm, annot=True, fmt='d', cmap='Blues', xticklabels=sorted(set(y_test)), yticklabels=sorted(set(y_test)))\n",
    "plt.xlabel(\"Predicted Label\")\n",
    "plt.ylabel(\"True Label\")\n",
    "plt.title(\"Test Confusion Matrix\")\n",
    "plt.show()"
   ]
  },
  {
   "cell_type": "code",
   "execution_count": 17,
   "id": "b7de3f52-635e-4eac-a743-9c0625349d2e",
   "metadata": {},
   "outputs": [
    {
     "name": "stdout",
     "output_type": "stream",
     "text": [
      "\n",
      "Top words for class 0:\n",
      "course: 0.0180\n",
      "project: 0.0158\n",
      "people: 0.0114\n",
      "make: 0.0097\n",
      "understand: 0.0084\n",
      "important: 0.0071\n",
      "making: 0.0069\n",
      "ai: 0.0066\n",
      "social: 0.0065\n",
      "work: 0.0063\n",
      "\n",
      "Top words for class 1:\n",
      "concepts: 0.0301\n",
      "course: 0.0297\n",
      "approach: 0.0137\n",
      "new: 0.0130\n",
      "project: 0.0115\n",
      "social: 0.0110\n",
      "ai: 0.0110\n",
      "document: 0.0094\n",
      "work: 0.0092\n",
      "context: 0.0079\n",
      "\n",
      "Top words for class 2:\n",
      "course: 0.0449\n",
      "understand: 0.0235\n",
      "new: 0.0233\n",
      "given: 0.0190\n",
      "people: 0.0151\n",
      "project: 0.0132\n",
      "work: 0.0129\n",
      "score: 0.0114\n",
      "learnt: 0.0114\n",
      "thinking: 0.0107\n",
      "\n",
      "Top words for class 3:\n",
      "project: 0.0332\n",
      "understand: 0.0330\n",
      "new: 0.0317\n",
      "decision: 0.0292\n",
      "people: 0.0288\n",
      "concepts: 0.0274\n",
      "course: 0.0240\n",
      "making: 0.0238\n",
      "good: 0.0174\n",
      "things: 0.0173\n",
      "\n",
      "Top words for class 4:\n",
      "social: 0.0972\n",
      "society: 0.0844\n",
      "document: 0.0761\n",
      "impact: 0.0664\n",
      "project: 0.0522\n",
      "things: 0.0447\n",
      "feel: 0.0434\n",
      "context: 0.0433\n",
      "responsibility: 0.0404\n",
      "important: 0.0389\n"
     ]
    }
   ],
   "source": [
    "# Get the feature importance (coefficients)\n",
    "coefs = ordinal_svm.coef_.toarray().flatten()\n",
    "\n",
    "# Get the feature names (words) from the TF-IDF vectorizer\n",
    "feature_names = vectorizer.get_feature_names_out()\n",
    "\n",
    "# For each class, compute average TF-IDF vector and multiply by model coefficients\n",
    "for class_label in sorted(y_train.unique()):\n",
    "    print(f\"\\nTop words for class {class_label}:\")\n",
    "\n",
    "    # Get rows (documents) that belong to this class\n",
    "    class_docs = X_train_tfidf[np.array(y_train) == class_label]\n",
    "\n",
    "    # Compute average TF-IDF vector for this class\n",
    "    class_avg_tfidf = class_docs.mean(axis=0).A1  # shape (n_features,), converted to dense array\n",
    "\n",
    "    # Compute per-feature importance scores: how much each feature contributes\n",
    "    feature_scores = class_avg_tfidf * coefs  # element-wise multiplication\n",
    "\n",
    "    # Get indices of top 10 features\n",
    "    top10_idx = feature_scores.argsort()[-10:][::-1]\n",
    "\n",
    "    # Display the top 10 words and their scores\n",
    "    for idx in top10_idx:\n",
    "        print(f\"{feature_names[idx]}: {feature_scores[idx]:.4f}\")"
   ]
  },
  {
   "cell_type": "code",
   "execution_count": 18,
   "id": "457cf973-9174-41a3-bdf0-36d8c5be1d73",
   "metadata": {},
   "outputs": [
    {
     "name": "stdout",
     "output_type": "stream",
     "text": [
      "\n",
      "Top 20 Important Features (by weight):\n",
      "understand: 1.3418\n",
      "processing: -1.3263\n",
      "science: -1.2793\n",
      "lectures: -1.2274\n",
      "new: 1.2082\n",
      "feel: 1.2067\n",
      "society: 1.1319\n",
      "decision: 1.1032\n",
      "document: 1.1026\n",
      "things: 1.0765\n",
      "people: 1.0684\n",
      "data: -1.0280\n",
      "social: 1.0170\n",
      "impact: 1.0071\n",
      "project: 0.9793\n",
      "good: 0.9468\n",
      "personal: 0.9289\n",
      "improve: -0.9277\n",
      "helps: -0.8904\n",
      "believe: 0.8676\n"
     ]
    }
   ],
   "source": [
    "# Get the top 20 most important features globally\n",
    "top20_idx = np.argsort(np.abs(coefs))[-20:][::-1]\n",
    "print(\"\\nTop 20 Important Features (by weight):\")\n",
    "for idx in top20_idx:\n",
    "    print(f\"{feature_names[idx]}: {coefs[idx]:.4f}\")"
   ]
  }
 ],
 "metadata": {
  "kernelspec": {
   "display_name": "Python 3 (ipykernel)",
   "language": "python",
   "name": "python3"
  },
  "language_info": {
   "codemirror_mode": {
    "name": "ipython",
    "version": 3
   },
   "file_extension": ".py",
   "mimetype": "text/x-python",
   "name": "python",
   "nbconvert_exporter": "python",
   "pygments_lexer": "ipython3",
   "version": "3.12.4"
  }
 },
 "nbformat": 4,
 "nbformat_minor": 5
}
