{
 "cells": [
  {
   "cell_type": "code",
   "execution_count": 16,
   "id": "7aae93c4-b3a4-495d-b2a5-03c41c81805c",
   "metadata": {},
   "outputs": [],
   "source": [
    "import numpy as np\n",
    "import pandas as pd\n",
    "import torch\n",
    "import seaborn as sns\n",
    "import matplotlib.pyplot as plt\n",
    "from sklearn.model_selection import train_test_split\n",
    "from sklearn.feature_extraction.text import TfidfVectorizer\n",
    "from sklearn.ensemble import RandomForestClassifier\n",
    "from sklearn.inspection import permutation_importance\n",
    "from sklearn.preprocessing import LabelEncoder, OrdinalEncoder\n",
    "from sklearn.metrics import classification_report, accuracy_score, cohen_kappa_score, confusion_matrix\n",
    "from imblearn.over_sampling import RandomOverSampler\n",
    "import warnings\n",
    "warnings.filterwarnings(\"ignore\")"
   ]
  },
  {
   "cell_type": "code",
   "execution_count": 3,
   "id": "d12277a3-ef27-44e1-a15f-7d148ea4c349",
   "metadata": {},
   "outputs": [
    {
     "name": "stdout",
     "output_type": "stream",
     "text": [
      "               Dokumentname         Code  Anfang  Ende  \\\n",
      "0  reflection_assignment_P1      Level 1       1     1   \n",
      "1  reflection_assignment_P1      Level 1       1     1   \n",
      "2  reflection_assignment_P1      Level 1       1     1   \n",
      "3  reflection_assignment_P1  Level 2 (a)       1     1   \n",
      "4  reflection_assignment_P1  Level 2 (a)       1     1   \n",
      "\n",
      "                                             Segment  \n",
      "0  I am a newbie in data science (DS). On the one...  \n",
      "1  However, the handling of data in basic cogniti...  \n",
      "2  The HCDS course was largely aimed at a critica...  \n",
      "3  Among these topics, some messages particularly...  \n",
      "4  First of all, I became aware of the importance...  \n"
     ]
    }
   ],
   "source": [
    "df = pd.read_csv(\"Coded_Segments.csv\")\n",
    "print(df.head())"
   ]
  },
  {
   "cell_type": "code",
   "execution_count": 4,
   "id": "8d4a94ba-6598-419b-a1ba-506d4c182c6d",
   "metadata": {},
   "outputs": [
    {
     "data": {
      "text/plain": [
       "Code\n",
       "Level 3        90\n",
       "Level 1        69\n",
       "Level 2 (b)    41\n",
       "Level 2 (a)    31\n",
       "Level 4         6\n",
       "Name: count, dtype: int64"
      ]
     },
     "execution_count": 4,
     "metadata": {},
     "output_type": "execute_result"
    }
   ],
   "source": [
    "df['Code'].value_counts()"
   ]
  },
  {
   "cell_type": "code",
   "execution_count": 5,
   "id": "9b1cb1dc-7076-4e07-9f37-4daa972dcb5c",
   "metadata": {},
   "outputs": [
    {
     "data": {
      "text/plain": [
       "(array([69.,  0., 31.,  0.,  0., 41.,  0., 90.,  0.,  6.]),\n",
       " array([0. , 0.4, 0.8, 1.2, 1.6, 2. , 2.4, 2.8, 3.2, 3.6, 4. ]),\n",
       " <BarContainer object of 10 artists>)"
      ]
     },
     "execution_count": 5,
     "metadata": {},
     "output_type": "execute_result"
    },
    {
     "data": {
      "image/png": "[encoded data removed]",
      "text/plain": [
       "<Figure size 640x480 with 1 Axes>"
      ]
     },
     "metadata": {},
     "output_type": "display_data"
    }
   ],
   "source": [
    "plt.hist(sorted(df['Code']))"
   ]
  },
  {
   "cell_type": "code",
   "execution_count": 7,
   "id": "50f2fb84-4329-4653-894d-0996d96ac8b2",
   "metadata": {},
   "outputs": [],
   "source": [
    "def preprocess_data(df: pd.DataFrame) -> pd.DataFrame:\n",
    "    le = LabelEncoder()\n",
    "    df['class'] = le.fit_transform(df['Code'])\n",
    "\n",
    "    # handle imbalanced dataset\n",
    "    ros = RandomOverSampler(random_state=42)\n",
    "    X_resampled, y_resampled = ros.fit_resample(df[['Segment']], df['class'])\n",
    "    df_resampled = pd.DataFrame({'Segment': X_resampled['Segment'], 'class': y_resampled})\n",
    "\n",
    "    print(f\"Original dataset shape: {df.shape}\")\n",
    "    print(f\"Resampled dataset shape: {df_resampled.shape}\")\n",
    "\n",
    "    return df_resampled, le"
   ]
  },
  {
   "cell_type": "code",
   "execution_count": 8,
   "id": "20714124-c9cc-4de9-923e-a732d5fcc6bb",
   "metadata": {},
   "outputs": [
    {
     "name": "stdout",
     "output_type": "stream",
     "text": [
      "Original dataset shape: (237, 6)\n",
      "Resampled dataset shape: (450, 2)\n",
      "                                               Segment  class\n",
      "0    I am a newbie in data science (DS). On the one...      0\n",
      "1    However, the handling of data in basic cogniti...      0\n",
      "2    The HCDS course was largely aimed at a critica...      0\n",
      "3    Among these topics, some messages particularly...      1\n",
      "4    First of all, I became aware of the importance...      1\n",
      "..                                                 ...    ...\n",
      "445  The first concern, to begin  with, is to check...      4\n",
      "446  The first concern, to begin  with, is to check...      4\n",
      "447  Social nuances have shown how important it is ...      4\n",
      "448  It also made me realise the high personal resp...      4\n",
      "449  As an when my experience grew, I started to un...      4\n",
      "\n",
      "[450 rows x 2 columns]\n"
     ]
    }
   ],
   "source": [
    "df_resampled, label_encoder = preprocess_data(df)\n",
    "print(df_resampled)"
   ]
  },
  {
   "cell_type": "code",
   "execution_count": 9,
   "id": "40594027-c99b-4c68-92b8-e03f3cb1a75b",
   "metadata": {},
   "outputs": [
    {
     "data": {
      "text/plain": [
       "class\n",
       "0    90\n",
       "1    90\n",
       "4    90\n",
       "2    90\n",
       "3    90\n",
       "Name: count, dtype: int64"
      ]
     },
     "execution_count": 9,
     "metadata": {},
     "output_type": "execute_result"
    }
   ],
   "source": [
    "df_resampled['class'].value_counts()"
   ]
  },
  {
   "cell_type": "code",
   "execution_count": 10,
   "id": "1b9cac4e-2974-4981-af05-56672f879099",
   "metadata": {},
   "outputs": [
    {
     "data": {
      "text/plain": [
       "(array([90.,  0., 90.,  0.,  0., 90.,  0., 90.,  0., 90.]),\n",
       " array([0. , 0.4, 0.8, 1.2, 1.6, 2. , 2.4, 2.8, 3.2, 3.6, 4. ]),\n",
       " <BarContainer object of 10 artists>)"
      ]
     },
     "execution_count": 10,
     "metadata": {},
     "output_type": "execute_result"
    },
    {
     "data": {
      "image/png": "[encoded data removed]",
      "text/plain": [
       "<Figure size 640x480 with 1 Axes>"
      ]
     },
     "metadata": {},
     "output_type": "display_data"
    }
   ],
   "source": [
    "plt.hist(sorted(df_resampled['class']))"
   ]
  },
  {
   "cell_type": "code",
   "execution_count": 12,
   "id": "c9855e4f-634c-4420-98fe-09282681fe5b",
   "metadata": {},
   "outputs": [
    {
     "name": "stdout",
     "output_type": "stream",
     "text": [
      "Validation Set Results:\n",
      "Accuracy: 0.88\n",
      "Cohen's Kappa: 0.85\n",
      "Classification Report:\n",
      "              precision    recall  f1-score   support\n",
      "\n",
      "           0       0.72      1.00      0.84        13\n",
      "           1       0.93      0.93      0.93        14\n",
      "           2       0.92      0.85      0.88        13\n",
      "           3       0.89      0.62      0.73        13\n",
      "           4       1.00      1.00      1.00        14\n",
      "\n",
      "    accuracy                           0.88        67\n",
      "   macro avg       0.89      0.88      0.87        67\n",
      "weighted avg       0.89      0.88      0.88        67\n",
      "\n"
     ]
    },
    {
     "data": {
      "image/png": "[encoded data removed]",
      "text/plain": [
       "<Figure size 600x400 with 2 Axes>"
      ]
     },
     "metadata": {},
     "output_type": "display_data"
    },
    {
     "name": "stdout",
     "output_type": "stream",
     "text": [
      "\n",
      "Test Set Results:\n",
      "Accuracy: 0.87\n",
      "Cohen's Kappa: 0.83\n",
      "Classification Report:\n",
      "              precision    recall  f1-score   support\n",
      "\n",
      "           0       0.80      0.86      0.83        14\n",
      "           1       1.00      0.92      0.96        13\n",
      "           2       0.86      0.86      0.86        14\n",
      "           3       0.71      0.71      0.71        14\n",
      "           4       1.00      1.00      1.00        13\n",
      "\n",
      "    accuracy                           0.87        68\n",
      "   macro avg       0.87      0.87      0.87        68\n",
      "weighted avg       0.87      0.87      0.87        68\n",
      "\n"
     ]
    },
    {
     "data": {
      "image/png": "[encoded data removed]",
      "text/plain": [
       "<Figure size 600x400 with 2 Axes>"
      ]
     },
     "metadata": {},
     "output_type": "display_data"
    }
   ],
   "source": [
    "# Preprocessing\n",
    "# Split into training, validation and test sets\n",
    "train_df, temp_df = train_test_split(df_resampled, test_size=0.3, stratify=df_resampled['class'], random_state=42)\n",
    "val_df, test_df = train_test_split(temp_df, test_size=0.5, stratify=temp_df['class'], random_state=42)\n",
    "\n",
    "# Extract text and labels\n",
    "X_train, y_train = train_df['Segment'], train_df['class']\n",
    "X_val, y_val = val_df['Segment'], val_df['class']\n",
    "X_test, y_test = test_df['Segment'], test_df['class']\n",
    "\n",
    "# Convert text to numerical features using TF-IDF\n",
    "vectorizer = TfidfVectorizer(ngram_range=(1, 1), max_features=5000)\n",
    "X_train_tfidf = vectorizer.fit_transform(X_train)\n",
    "X_val_tfidf = vectorizer.transform(X_val)\n",
    "X_test_tfidf = vectorizer.transform(X_test)\n",
    "\n",
    "# Train a Random Forest classifier\n",
    "rf_model = RandomForestClassifier(n_estimators=100, random_state=42)\n",
    "rf_model.fit(X_train_tfidf, y_train)\n",
    "\n",
    "# Evaluate on validation and test sets\n",
    "rf_y_val_pred = rf_model.predict(X_val_tfidf)\n",
    "rf_y_test_pred = rf_model.predict(X_test_tfidf)\n",
    "\n",
    "# Metrics for validation set\n",
    "rf_val_accuracy = accuracy_score(y_val, rf_y_val_pred)\n",
    "rf_val_class_report = classification_report(y_val, rf_y_val_pred, zero_division=0)\n",
    "rf_val_cohen_kappa = cohen_kappa_score(y_val, rf_y_val_pred)\n",
    "rf_val_cm = confusion_matrix(y_val, rf_y_val_pred)\n",
    "\n",
    "# Metrics for test set\n",
    "rf_test_accuracy = accuracy_score(y_test, rf_y_test_pred)\n",
    "rf_test_class_report = classification_report(y_test, rf_y_test_pred, zero_division=0)\n",
    "rf_test_cohen_kappa = cohen_kappa_score(y_test, rf_y_test_pred)\n",
    "rf_test_cm = confusion_matrix(y_test, rf_y_test_pred)\n",
    "\n",
    "# Print results\n",
    "print(\"Validation Set Results:\")\n",
    "print(f\"Accuracy: {rf_val_accuracy:.2f}\")\n",
    "print(f\"Cohen's Kappa: {rf_val_cohen_kappa:.2f}\")\n",
    "print(\"Classification Report:\")\n",
    "print(rf_val_class_report)\n",
    "plt.figure(figsize=(6,4))\n",
    "sns.heatmap(rf_val_cm, annot=True, fmt='d', cmap='Blues', xticklabels=sorted(set(y_val)), yticklabels=sorted(set(y_val)))\n",
    "plt.xlabel(\"Predicted Label\")\n",
    "plt.ylabel(\"True Label\")\n",
    "plt.title(\"Validation Confusion Matrix\")\n",
    "plt.show()\n",
    "\n",
    "print(\"\\nTest Set Results:\")\n",
    "print(f\"Accuracy: {rf_test_accuracy:.2f}\")\n",
    "print(f\"Cohen's Kappa: {rf_test_cohen_kappa:.2f}\")\n",
    "print(\"Classification Report:\")\n",
    "print(rf_test_class_report)\n",
    "plt.figure(figsize=(6,4))\n",
    "sns.heatmap(rf_test_cm, annot=True, fmt='d', cmap='Blues', xticklabels=sorted(set(y_test)), yticklabels=sorted(set(y_test)))\n",
    "plt.xlabel(\"Predicted Label\")\n",
    "plt.ylabel(\"True Label\")\n",
    "plt.title(\"Test Confusion Matrix\")\n",
    "plt.show()"
   ]
  },
  {
   "cell_type": "code",
   "execution_count": 19,
   "id": "1875f449-533b-4636-8801-0dad1318dc48",
   "metadata": {},
   "outputs": [
    {
     "name": "stdout",
     "output_type": "stream",
     "text": [
      "\n",
      "🔍 Top 10 Important Features (Using Permutation Importance):\n",
      "not: 0.0328\n",
      "it: 0.0194\n",
      "would: 0.0179\n",
      "people: 0.0149\n",
      "in: 0.0149\n",
      "but: 0.0134\n",
      "practice: 0.0134\n",
      "the: 0.0134\n",
      "as: 0.0104\n",
      "with: 0.0075\n"
     ]
    }
   ],
   "source": [
    "# Get the feature names (words) from the TF-IDF vectorizer\n",
    "feature_names = np.array(vectorizer.get_feature_names_out())\n",
    "\n",
    "# Compute permutation importance\n",
    "perm_importance = permutation_importance(rf_model, X_val_tfidf.toarray(), y_val, n_repeats=10, random_state=42)\n",
    "\n",
    "# Get the top 10 features for each class\n",
    "top10_idx = np.argsort(perm_importance.importances_mean)[-10:][::-1]\n",
    "\n",
    "print(\"\\n🔍 Top 10 Important Features (Using Permutation Importance):\")\n",
    "for idx in top10_idx:\n",
    "    print(f\"{feature_names[idx]}: {perm_importance.importances_mean[idx]:.4f}\")"
   ]
  },
  {
   "cell_type": "code",
   "execution_count": 20,
   "id": "41f7d6ce-5be1-47cb-bc8e-e594a20d4f99",
   "metadata": {},
   "outputs": [
    {
     "name": "stdout",
     "output_type": "stream",
     "text": [
      "\n",
      "🔍 Top 10 Important Features (Global for All Classes):\n",
      "of: 0.0129\n",
      "not: 0.0127\n",
      "to: 0.0113\n",
      "that: 0.0104\n",
      "would: 0.0089\n",
      "be: 0.0088\n",
      "in: 0.0088\n",
      "as: 0.0087\n",
      "me: 0.0086\n",
      "the: 0.0083\n"
     ]
    }
   ],
   "source": [
    "# Get the global feature importance\n",
    "rf_feature_importance = rf_model.feature_importances_\n",
    "\n",
    "# Get the indices of the top 10 most important features (globally)\n",
    "top10_idx = np.argsort(rf_feature_importance)[-10:][::-1]\n",
    "\n",
    "print(\"\\n🔍 Top 10 Important Features (Global for All Classes):\")\n",
    "for idx in top10_idx:\n",
    "    print(f\"{feature_names[idx]}: {rf_feature_importance[idx]:.4f}\")"
   ]
  },
  {
   "cell_type": "code",
   "execution_count": null,
   "id": "e37f0360-6ac0-412b-ad42-17102d804c7c",
   "metadata": {},
   "outputs": [],
   "source": []
  }
 ],
 "metadata": {
  "kernelspec": {
   "display_name": "Python 3 (ipykernel)",
   "language": "python",
   "name": "python3"
  },
  "language_info": {
   "codemirror_mode": {
    "name": "ipython",
    "version": 3
   },
   "file_extension": ".py",
   "mimetype": "text/x-python",
   "name": "python",
   "nbconvert_exporter": "python",
   "pygments_lexer": "ipython3",
   "version": "3.12.4"
  }
 },
 "nbformat": 4,
 "nbformat_minor": 5
}
