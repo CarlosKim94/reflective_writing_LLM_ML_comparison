{
 "cells": [
  {
   "cell_type": "code",
   "execution_count": 21,
   "id": "7aae93c4-b3a4-495d-b2a5-03c41c81805c",
   "metadata": {},
   "outputs": [],
   "source": [
    "import numpy as np\n",
    "import pandas as pd\n",
    "import torch\n",
    "import seaborn as sns\n",
    "import matplotlib.pyplot as plt\n",
    "from sklearn.model_selection import train_test_split\n",
    "from sklearn.feature_extraction.text import TfidfVectorizer\n",
    "from sklearn.naive_bayes import MultinomialNB\n",
    "from sklearn.linear_model import LogisticRegression\n",
    "from sklearn.svm import LinearSVC\n",
    "from sklearn.ensemble import RandomForestClassifier\n",
    "from sklearn.preprocessing import LabelEncoder, OrdinalEncoder\n",
    "from sklearn.metrics import classification_report, accuracy_score, cohen_kappa_score, confusion_matrix\n",
    "from imblearn.over_sampling import RandomOverSampler\n",
    "import warnings\n",
    "warnings.filterwarnings(\"ignore\")"
   ]
  },
  {
   "cell_type": "code",
   "execution_count": 3,
   "id": "d12277a3-ef27-44e1-a15f-7d148ea4c349",
   "metadata": {},
   "outputs": [
    {
     "name": "stdout",
     "output_type": "stream",
     "text": [
      "               Dokumentname         Code  Anfang  Ende  \\\n",
      "0  reflection_assignment_P1      Level 1       1     1   \n",
      "1  reflection_assignment_P1      Level 1       1     1   \n",
      "2  reflection_assignment_P1      Level 1       1     1   \n",
      "3  reflection_assignment_P1  Level 2 (a)       1     1   \n",
      "4  reflection_assignment_P1  Level 2 (a)       1     1   \n",
      "\n",
      "                                             Segment  \n",
      "0  I am a newbie in data science (DS). On the one...  \n",
      "1  However, the handling of data in basic cogniti...  \n",
      "2  The HCDS course was largely aimed at a critica...  \n",
      "3  Among these topics, some messages particularly...  \n",
      "4  First of all, I became aware of the importance...  \n"
     ]
    }
   ],
   "source": [
    "df = pd.read_csv(\"Coded_Segments.csv\")\n",
    "print(df.head())"
   ]
  },
  {
   "cell_type": "code",
   "execution_count": 4,
   "id": "8d4a94ba-6598-419b-a1ba-506d4c182c6d",
   "metadata": {},
   "outputs": [
    {
     "data": {
      "text/plain": [
       "Code\n",
       "Level 3        90\n",
       "Level 1        69\n",
       "Level 2 (b)    41\n",
       "Level 2 (a)    31\n",
       "Level 4         6\n",
       "Name: count, dtype: int64"
      ]
     },
     "execution_count": 4,
     "metadata": {},
     "output_type": "execute_result"
    }
   ],
   "source": [
    "df['Code'].value_counts()"
   ]
  },
  {
   "cell_type": "code",
   "execution_count": 5,
   "id": "9b1cb1dc-7076-4e07-9f37-4daa972dcb5c",
   "metadata": {},
   "outputs": [
    {
     "data": {
      "text/plain": [
       "(array([69.,  0., 31.,  0.,  0., 41.,  0., 90.,  0.,  6.]),\n",
       " array([0. , 0.4, 0.8, 1.2, 1.6, 2. , 2.4, 2.8, 3.2, 3.6, 4. ]),\n",
       " <BarContainer object of 10 artists>)"
      ]
     },
     "execution_count": 5,
     "metadata": {},
     "output_type": "execute_result"
    },
    {
     "data": {
      "image/png": "[encoded data removed]",
      "text/plain": [
       "<Figure size 640x480 with 1 Axes>"
      ]
     },
     "metadata": {},
     "output_type": "display_data"
    }
   ],
   "source": [
    "plt.hist(sorted(df['Code']))"
   ]
  },
  {
   "cell_type": "code",
   "execution_count": 6,
   "id": "50f2fb84-4329-4653-894d-0996d96ac8b2",
   "metadata": {},
   "outputs": [],
   "source": [
    "def preprocess_data(df: pd.DataFrame) -> pd.DataFrame:\n",
    "    le = LabelEncoder()\n",
    "    df['class'] = le.fit_transform(df['Code'])\n",
    "\n",
    "    # handle imbalanced dataset\n",
    "    ros = RandomOverSampler(random_state=42)\n",
    "    X_resampled, y_resampled = ros.fit_resample(df[['Segment']], df['class'])\n",
    "    df_resampled = pd.DataFrame({'Segment': X_resampled['Segment'], 'class': y_resampled})\n",
    "\n",
    "    print(f\"Original dataset shape: {df.shape}\")\n",
    "    print(f\"Resampled dataset shape: {df_resampled.shape}\")\n",
    "\n",
    "    return df_resampled, le"
   ]
  },
  {
   "cell_type": "code",
   "execution_count": 7,
   "id": "20714124-c9cc-4de9-923e-a732d5fcc6bb",
   "metadata": {},
   "outputs": [
    {
     "name": "stdout",
     "output_type": "stream",
     "text": [
      "Original dataset shape: (237, 6)\n",
      "Resampled dataset shape: (450, 2)\n",
      "                                               Segment  class\n",
      "0    I am a newbie in data science (DS). On the one...      0\n",
      "1    However, the handling of data in basic cogniti...      0\n",
      "2    The HCDS course was largely aimed at a critica...      0\n",
      "3    Among these topics, some messages particularly...      1\n",
      "4    First of all, I became aware of the importance...      1\n",
      "..                                                 ...    ...\n",
      "445  The first concern, to begin  with, is to check...      4\n",
      "446  The first concern, to begin  with, is to check...      4\n",
      "447  Social nuances have shown how important it is ...      4\n",
      "448  It also made me realise the high personal resp...      4\n",
      "449  As an when my experience grew, I started to un...      4\n",
      "\n",
      "[450 rows x 2 columns]\n"
     ]
    }
   ],
   "source": [
    "df_resampled, label_encoder = preprocess_data(df)\n",
    "print(df_resampled)"
   ]
  },
  {
   "cell_type": "code",
   "execution_count": 8,
   "id": "40594027-c99b-4c68-92b8-e03f3cb1a75b",
   "metadata": {},
   "outputs": [
    {
     "data": {
      "text/plain": [
       "class\n",
       "0    90\n",
       "1    90\n",
       "4    90\n",
       "2    90\n",
       "3    90\n",
       "Name: count, dtype: int64"
      ]
     },
     "execution_count": 8,
     "metadata": {},
     "output_type": "execute_result"
    }
   ],
   "source": [
    "df_resampled['class'].value_counts()"
   ]
  },
  {
   "cell_type": "code",
   "execution_count": 9,
   "id": "1b9cac4e-2974-4981-af05-56672f879099",
   "metadata": {},
   "outputs": [
    {
     "data": {
      "text/plain": [
       "(array([90.,  0., 90.,  0.,  0., 90.,  0., 90.,  0., 90.]),\n",
       " array([0. , 0.4, 0.8, 1.2, 1.6, 2. , 2.4, 2.8, 3.2, 3.6, 4. ]),\n",
       " <BarContainer object of 10 artists>)"
      ]
     },
     "execution_count": 9,
     "metadata": {},
     "output_type": "execute_result"
    },
    {
     "data": {
      "image/png": "[encoded data removed]",
      "text/plain": [
       "<Figure size 640x480 with 1 Axes>"
      ]
     },
     "metadata": {},
     "output_type": "display_data"
    }
   ],
   "source": [
    "plt.hist(sorted(df_resampled['class']))"
   ]
  },
  {
   "cell_type": "code",
   "execution_count": 22,
   "id": "c9855e4f-634c-4420-98fe-09282681fe5b",
   "metadata": {},
   "outputs": [
    {
     "name": "stdout",
     "output_type": "stream",
     "text": [
      "Validation Set Results:\n",
      "Accuracy: 0.88\n",
      "Cohen's Kappa: 0.85\n",
      "Classification Report:\n",
      "              precision    recall  f1-score   support\n",
      "\n",
      "           0       0.92      0.85      0.88        13\n",
      "           1       0.93      1.00      0.97        14\n",
      "           2       0.80      0.92      0.86        13\n",
      "           3       0.73      0.62      0.67        13\n",
      "           4       1.00      1.00      1.00        14\n",
      "\n",
      "    accuracy                           0.88        67\n",
      "   macro avg       0.88      0.88      0.87        67\n",
      "weighted avg       0.88      0.88      0.88        67\n",
      "\n"
     ]
    },
    {
     "data": {
      "image/png": "[encoded data removed]",
      "text/plain": [
       "<Figure size 600x400 with 2 Axes>"
      ]
     },
     "metadata": {},
     "output_type": "display_data"
    },
    {
     "name": "stdout",
     "output_type": "stream",
     "text": [
      "\n",
      "Test Set Results:\n",
      "Accuracy: 0.94\n",
      "Cohen's Kappa: 0.93\n",
      "Classification Report:\n",
      "              precision    recall  f1-score   support\n",
      "\n",
      "           0       1.00      1.00      1.00        14\n",
      "           1       0.92      0.92      0.92        13\n",
      "           2       0.93      0.93      0.93        14\n",
      "           3       0.86      0.86      0.86        14\n",
      "           4       1.00      1.00      1.00        13\n",
      "\n",
      "    accuracy                           0.94        68\n",
      "   macro avg       0.94      0.94      0.94        68\n",
      "weighted avg       0.94      0.94      0.94        68\n",
      "\n"
     ]
    },
    {
     "data": {
      "image/png": "[encoded data removed]",
      "text/plain": [
       "<Figure size 600x400 with 2 Axes>"
      ]
     },
     "metadata": {},
     "output_type": "display_data"
    }
   ],
   "source": [
    "# Preprocessing\n",
    "# Split into training, validation and test sets\n",
    "train_df, temp_df = train_test_split(df_resampled, test_size=0.3, stratify=df_resampled['class'], random_state=42)\n",
    "val_df, test_df = train_test_split(temp_df, test_size=0.5, stratify=temp_df['class'], random_state=42)\n",
    "\n",
    "# Extract text and labels\n",
    "X_train, y_train = train_df['Segment'], train_df['class']\n",
    "X_val, y_val = val_df['Segment'], val_df['class']\n",
    "X_test, y_test = test_df['Segment'], test_df['class']\n",
    "\n",
    "# Convert text to numerical features using TF-IDF\n",
    "vectorizer = TfidfVectorizer(ngram_range=(1, 1), max_features=5000)\n",
    "X_train_tfidf = vectorizer.fit_transform(X_train)\n",
    "X_val_tfidf = vectorizer.transform(X_val)\n",
    "X_test_tfidf = vectorizer.transform(X_test)\n",
    "\n",
    "# Train an SVM classifier\n",
    "svm_model = LinearSVC(random_state=42, multi_class='ovr')\n",
    "svm_model.fit(X_train_tfidf, y_train)\n",
    "\n",
    "# Evaluate on validation and test sets\n",
    "svm_y_val_pred = svm_model.predict(X_val_tfidf)\n",
    "svm_y_test_pred = svm_model.predict(X_test_tfidf)\n",
    "\n",
    "# Metrics for validation set\n",
    "svm_val_accuracy = accuracy_score(y_val, svm_y_val_pred)\n",
    "svm_val_class_report = classification_report(y_val, svm_y_val_pred, zero_division=0)\n",
    "svm_val_cohen_kappa = cohen_kappa_score(y_val, svm_y_val_pred)\n",
    "svm_val_cm = confusion_matrix(y_val, svm_y_val_pred)\n",
    "\n",
    "# Metrics for test set\n",
    "svm_test_accuracy = accuracy_score(y_test, svm_y_test_pred)\n",
    "svm_test_class_report = classification_report(y_test, svm_y_test_pred, zero_division=0)\n",
    "svm_test_cohen_kappa = cohen_kappa_score(y_test, svm_y_test_pred)\n",
    "svm_test_cm = confusion_matrix(y_test, svm_y_test_pred)\n",
    "\n",
    "# Print results\n",
    "print(\"Validation Set Results:\")\n",
    "print(f\"Accuracy: {svm_val_accuracy:.2f}\")\n",
    "print(f\"Cohen's Kappa: {svm_val_cohen_kappa:.2f}\")\n",
    "print(\"Classification Report:\")\n",
    "print(svm_val_class_report)\n",
    "plt.figure(figsize=(6,4))\n",
    "sns.heatmap(svm_val_cm, annot=True, fmt='d', cmap='Blues', xticklabels=sorted(set(y_val)), yticklabels=sorted(set(y_val)))\n",
    "plt.xlabel(\"Predicted Label\")\n",
    "plt.ylabel(\"True Label\")\n",
    "plt.title(\"Validation Confusion Matrix\")\n",
    "plt.show()\n",
    "\n",
    "print(\"\\nTest Set Results:\")\n",
    "print(f\"Accuracy: {svm_test_accuracy:.2f}\")\n",
    "print(f\"Cohen's Kappa: {svm_test_cohen_kappa:.2f}\")\n",
    "print(\"Classification Report:\")\n",
    "print(svm_test_class_report)\n",
    "plt.figure(figsize=(6,4))\n",
    "sns.heatmap(svm_test_cm, annot=True, fmt='d', cmap='Blues', xticklabels=sorted(set(y_test)), yticklabels=sorted(set(y_test)))\n",
    "plt.xlabel(\"Predicted Label\")\n",
    "plt.ylabel(\"True Label\")\n",
    "plt.title(\"Test Confusion Matrix\")\n",
    "plt.show()"
   ]
  },
  {
   "cell_type": "code",
   "execution_count": 25,
   "id": "1875f449-533b-4636-8801-0dad1318dc48",
   "metadata": {},
   "outputs": [
    {
     "name": "stdout",
     "output_type": "stream",
     "text": [
      "\n",
      "Top words for class 0:\n",
      "our: 0.9063\n",
      "improve: 0.8413\n",
      "model: 0.8083\n",
      "processing: 0.7860\n",
      "can: 0.7226\n",
      "lectures: 0.6752\n",
      "perspectives: 0.6440\n",
      "workflow: 0.6351\n",
      "frameworks: 0.6290\n",
      "then: 0.6272\n",
      "\n",
      "Top words for class 1:\n",
      "became: 0.8546\n",
      "needs: 0.7746\n",
      "must: 0.7349\n",
      "constant: 0.7011\n",
      "besides: 0.6962\n",
      "stop: 0.6878\n",
      "at: 0.6658\n",
      "human: 0.6657\n",
      "concepts: 0.6589\n",
      "doubt: 0.6413\n",
      "\n",
      "Top words for class 2:\n",
      "was: 1.0613\n",
      "me: 1.0117\n",
      "fairness: 0.8450\n",
      "already: 0.8107\n",
      "tool: 0.8082\n",
      "where: 0.7855\n",
      "because: 0.7851\n",
      "this: 0.7734\n",
      "topic: 0.7356\n",
      "building: 0.7244\n",
      "\n",
      "Top words for class 3:\n",
      "would: 1.5685\n",
      "making: 0.9796\n",
      "concepts: 0.9518\n",
      "them: 0.8426\n",
      "decision: 0.8305\n",
      "other: 0.7756\n",
      "these: 0.7316\n",
      "believe: 0.7287\n",
      "make: 0.7242\n",
      "since: 0.7162\n",
      "\n",
      "Top words for class 4:\n",
      "document: 0.8023\n",
      "social: 0.7047\n",
      "to: 0.6231\n",
      "responsibility: 0.6036\n",
      "impact: 0.5419\n",
      "society: 0.5291\n",
      "is: 0.5287\n",
      "that: 0.5136\n",
      "if: 0.4911\n",
      "every: 0.4735\n"
     ]
    }
   ],
   "source": [
    "# Get the feature names (words) from the TF-IDF vectorizer\n",
    "feature_names = np.array(vectorizer.get_feature_names_out())\n",
    "\n",
    "# Get the feature importance (coefficients)\n",
    "class_feature_coefs = svm_model.coef_\n",
    "\n",
    "# For each class, find the most important words\n",
    "for class_idx, class_coefs in enumerate(class_feature_coefs):\n",
    "    print(f\"\\nTop words for class {class_idx}:\")\n",
    "\n",
    "    # Get the indices of the top 10 words (sorted by importance)\n",
    "    top10_idx = class_coefs.argsort()[-10:][::-1]\n",
    "\n",
    "    # Display the words and their importance\n",
    "    for idx in top10_idx:\n",
    "        print(f\"{feature_names[idx]}: {class_coefs[idx]:.4f}\")"
   ]
  },
  {
   "cell_type": "code",
   "execution_count": 26,
   "id": "8f7e8dec-1829-4e0d-bbbb-5fc6b32b6384",
   "metadata": {},
   "outputs": [
    {
     "name": "stdout",
     "output_type": "stream",
     "text": [
      "\n",
      "Global Top 20 Important Words:\n",
      "concepts: 0.6483\n",
      "would: 0.6400\n",
      "this: 0.4939\n",
      "me: 0.4915\n",
      "that: 0.4618\n",
      "was: 0.4448\n",
      "data: 0.4220\n",
      "document: 0.4060\n",
      "making: 0.4036\n",
      "we: 0.3872\n",
      "can: 0.3840\n",
      "learned: 0.3821\n",
      "box: 0.3808\n",
      "because: 0.3694\n",
      "not: 0.3658\n",
      "as: 0.3613\n",
      "these: 0.3608\n",
      "our: 0.3593\n",
      "fairness: 0.3546\n",
      "became: 0.3513\n"
     ]
    }
   ],
   "source": [
    "# Get the average feature importance across all classes\n",
    "global_feature_importance = np.mean(np.abs(class_feature_coefs), axis=0)\n",
    "\n",
    "# Get the top 20 most important features globally\n",
    "top20_global_idx = global_feature_importance.argsort()[-20:][::-1]\n",
    "\n",
    "print(\"\\nGlobal Top 20 Important Words:\")\n",
    "for idx in top20_global_idx:\n",
    "    print(f\"{feature_names[idx]}: {global_feature_importance[idx]:.4f}\")"
   ]
  },
  {
   "cell_type": "code",
   "execution_count": null,
   "id": "6d0ad13a-5770-4451-beeb-65968315c23b",
   "metadata": {},
   "outputs": [],
   "source": []
  }
 ],
 "metadata": {
  "kernelspec": {
   "display_name": "Python 3 (ipykernel)",
   "language": "python",
   "name": "python3"
  },
  "language_info": {
   "codemirror_mode": {
    "name": "ipython",
    "version": 3
   },
   "file_extension": ".py",
   "mimetype": "text/x-python",
   "name": "python",
   "nbconvert_exporter": "python",
   "pygments_lexer": "ipython3",
   "version": "3.12.4"
  }
 },
 "nbformat": 4,
 "nbformat_minor": 5
}
