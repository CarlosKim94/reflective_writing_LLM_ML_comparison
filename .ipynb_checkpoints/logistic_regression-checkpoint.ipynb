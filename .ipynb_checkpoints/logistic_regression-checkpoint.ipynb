{
 "cells": [
  {
   "cell_type": "code",
   "execution_count": 16,
   "id": "7aae93c4-b3a4-495d-b2a5-03c41c81805c",
   "metadata": {},
   "outputs": [],
   "source": [
    "import numpy as np\n",
    "import pandas as pd\n",
    "import torch\n",
    "import seaborn as sns\n",
    "import matplotlib.pyplot as plt\n",
    "from sklearn.model_selection import train_test_split\n",
    "from sklearn.feature_extraction.text import TfidfVectorizer\n",
    "from sklearn.naive_bayes import MultinomialNB\n",
    "from sklearn.linear_model import LogisticRegression\n",
    "from sklearn.svm import SVC, SVR\n",
    "from sklearn.ensemble import RandomForestClassifier\n",
    "from sklearn.preprocessing import LabelEncoder, OrdinalEncoder\n",
    "from sklearn.metrics import classification_report, accuracy_score, cohen_kappa_score, confusion_matrix\n",
    "from imblearn.over_sampling import RandomOverSampler\n",
    "import warnings\n",
    "warnings.filterwarnings(\"ignore\")"
   ]
  },
  {
   "cell_type": "code",
   "execution_count": 17,
   "id": "d12277a3-ef27-44e1-a15f-7d148ea4c349",
   "metadata": {},
   "outputs": [
    {
     "name": "stdout",
     "output_type": "stream",
     "text": [
      "               Dokumentname         Code  Anfang  Ende  \\\n",
      "0  reflection_assignment_P1      Level 1       1     1   \n",
      "1  reflection_assignment_P1      Level 1       1     1   \n",
      "2  reflection_assignment_P1      Level 1       1     1   \n",
      "3  reflection_assignment_P1  Level 2 (a)       1     1   \n",
      "4  reflection_assignment_P1  Level 2 (a)       1     1   \n",
      "\n",
      "                                             Segment  \n",
      "0  I am a newbie in data science (DS). On the one...  \n",
      "1  However, the handling of data in basic cogniti...  \n",
      "2  The HCDS course was largely aimed at a critica...  \n",
      "3  Among these topics, some messages particularly...  \n",
      "4  First of all, I became aware of the importance...  \n"
     ]
    }
   ],
   "source": [
    "df = pd.read_csv(\"Coded_Segments.csv\")\n",
    "print(df.head())"
   ]
  },
  {
   "cell_type": "code",
   "execution_count": 18,
   "id": "8d4a94ba-6598-419b-a1ba-506d4c182c6d",
   "metadata": {},
   "outputs": [
    {
     "data": {
      "text/plain": [
       "Code\n",
       "Level 3        90\n",
       "Level 1        69\n",
       "Level 2 (b)    41\n",
       "Level 2 (a)    31\n",
       "Level 4         6\n",
       "Name: count, dtype: int64"
      ]
     },
     "execution_count": 18,
     "metadata": {},
     "output_type": "execute_result"
    }
   ],
   "source": [
    "df['Code'].value_counts()"
   ]
  },
  {
   "cell_type": "code",
   "execution_count": 19,
   "id": "9b1cb1dc-7076-4e07-9f37-4daa972dcb5c",
   "metadata": {},
   "outputs": [
    {
     "data": {
      "text/plain": [
       "(array([69.,  0., 31.,  0.,  0., 41.,  0., 90.,  0.,  6.]),\n",
       " array([0. , 0.4, 0.8, 1.2, 1.6, 2. , 2.4, 2.8, 3.2, 3.6, 4. ]),\n",
       " <BarContainer object of 10 artists>)"
      ]
     },
     "execution_count": 19,
     "metadata": {},
     "output_type": "execute_result"
    },
    {
     "data": {
      "image/png": "[encoded data removed]",
      "text/plain": [
       "<Figure size 640x480 with 1 Axes>"
      ]
     },
     "metadata": {},
     "output_type": "display_data"
    }
   ],
   "source": [
    "plt.hist(sorted(df['Code']))"
   ]
  },
  {
   "cell_type": "code",
   "execution_count": 20,
   "id": "50f2fb84-4329-4653-894d-0996d96ac8b2",
   "metadata": {},
   "outputs": [],
   "source": [
    "def preprocess_data(df: pd.DataFrame) -> pd.DataFrame:\n",
    "    le = LabelEncoder()\n",
    "    df['class'] = le.fit_transform(df['Code'])\n",
    "\n",
    "    # handle imbalanced dataset\n",
    "    ros = RandomOverSampler(random_state=42)\n",
    "    X_resampled, y_resampled = ros.fit_resample(df[['Segment']], df['class'])\n",
    "    df_resampled = pd.DataFrame({'Segment': X_resampled['Segment'], 'class': y_resampled})\n",
    "\n",
    "    print(f\"Original dataset shape: {df.shape}\")\n",
    "    print(f\"Resampled dataset shape: {df_resampled.shape}\")\n",
    "\n",
    "    return df_resampled, le"
   ]
  },
  {
   "cell_type": "code",
   "execution_count": 21,
   "id": "20714124-c9cc-4de9-923e-a732d5fcc6bb",
   "metadata": {},
   "outputs": [
    {
     "name": "stdout",
     "output_type": "stream",
     "text": [
      "Original dataset shape: (237, 6)\n",
      "Resampled dataset shape: (450, 2)\n",
      "                                               Segment  class\n",
      "0    I am a newbie in data science (DS). On the one...      0\n",
      "1    However, the handling of data in basic cogniti...      0\n",
      "2    The HCDS course was largely aimed at a critica...      0\n",
      "3    Among these topics, some messages particularly...      1\n",
      "4    First of all, I became aware of the importance...      1\n",
      "..                                                 ...    ...\n",
      "445  The first concern, to begin  with, is to check...      4\n",
      "446  The first concern, to begin  with, is to check...      4\n",
      "447  Social nuances have shown how important it is ...      4\n",
      "448  It also made me realise the high personal resp...      4\n",
      "449  As an when my experience grew, I started to un...      4\n",
      "\n",
      "[450 rows x 2 columns]\n"
     ]
    }
   ],
   "source": [
    "df_resampled, label_encoder = preprocess_data(df)\n",
    "print(df_resampled)"
   ]
  },
  {
   "cell_type": "code",
   "execution_count": 22,
   "id": "40594027-c99b-4c68-92b8-e03f3cb1a75b",
   "metadata": {},
   "outputs": [
    {
     "data": {
      "text/plain": [
       "class\n",
       "0    90\n",
       "1    90\n",
       "4    90\n",
       "2    90\n",
       "3    90\n",
       "Name: count, dtype: int64"
      ]
     },
     "execution_count": 22,
     "metadata": {},
     "output_type": "execute_result"
    }
   ],
   "source": [
    "df_resampled['class'].value_counts()"
   ]
  },
  {
   "cell_type": "code",
   "execution_count": 23,
   "id": "1b9cac4e-2974-4981-af05-56672f879099",
   "metadata": {},
   "outputs": [
    {
     "data": {
      "text/plain": [
       "(array([90.,  0., 90.,  0.,  0., 90.,  0., 90.,  0., 90.]),\n",
       " array([0. , 0.4, 0.8, 1.2, 1.6, 2. , 2.4, 2.8, 3.2, 3.6, 4. ]),\n",
       " <BarContainer object of 10 artists>)"
      ]
     },
     "execution_count": 23,
     "metadata": {},
     "output_type": "execute_result"
    },
    {
     "data": {
      "image/png": "[encoded data removed]",
      "text/plain": [
       "<Figure size 640x480 with 1 Axes>"
      ]
     },
     "metadata": {},
     "output_type": "display_data"
    }
   ],
   "source": [
    "plt.hist(sorted(df_resampled['class']))"
   ]
  },
  {
   "cell_type": "code",
   "execution_count": 24,
   "id": "c9855e4f-634c-4420-98fe-09282681fe5b",
   "metadata": {},
   "outputs": [
    {
     "name": "stdout",
     "output_type": "stream",
     "text": [
      "Validation Set Results:\n",
      "Accuracy: 0.90\n",
      "Cohen's Kappa: 0.87\n",
      "Classification Report:\n",
      "              precision    recall  f1-score   support\n",
      "\n",
      "           0       0.92      0.85      0.88        13\n",
      "           1       0.93      1.00      0.97        14\n",
      "           2       0.86      0.92      0.89        13\n",
      "           3       0.75      0.69      0.72        13\n",
      "           4       1.00      1.00      1.00        14\n",
      "\n",
      "    accuracy                           0.90        67\n",
      "   macro avg       0.89      0.89      0.89        67\n",
      "weighted avg       0.89      0.90      0.89        67\n",
      "\n"
     ]
    },
    {
     "data": {
      "image/png": "[encoded data removed]",
      "text/plain": [
       "<Figure size 600x400 with 2 Axes>"
      ]
     },
     "metadata": {},
     "output_type": "display_data"
    },
    {
     "name": "stdout",
     "output_type": "stream",
     "text": [
      "\n",
      "Test Set Results:\n",
      "Accuracy: 0.91\n",
      "Cohen's Kappa: 0.89\n",
      "Classification Report:\n",
      "              precision    recall  f1-score   support\n",
      "\n",
      "           0       0.93      1.00      0.97        14\n",
      "           1       0.92      0.85      0.88        13\n",
      "           2       0.87      0.93      0.90        14\n",
      "           3       0.85      0.79      0.81        14\n",
      "           4       1.00      1.00      1.00        13\n",
      "\n",
      "    accuracy                           0.91        68\n",
      "   macro avg       0.91      0.91      0.91        68\n",
      "weighted avg       0.91      0.91      0.91        68\n",
      "\n"
     ]
    },
    {
     "data": {
      "image/png": "[encoded data removed]",
      "text/plain": [
       "<Figure size 600x400 with 2 Axes>"
      ]
     },
     "metadata": {},
     "output_type": "display_data"
    }
   ],
   "source": [
    "# Preprocessing\n",
    "# Split into training, validation and test sets\n",
    "train_df, temp_df = train_test_split(df_resampled, test_size=0.3, stratify=df_resampled['class'], random_state=42)\n",
    "val_df, test_df = train_test_split(temp_df, test_size=0.5, stratify=temp_df['class'], random_state=42)\n",
    "\n",
    "# Extract text and labels\n",
    "X_train, y_train = train_df['Segment'], train_df['class']\n",
    "X_val, y_val = val_df['Segment'], val_df['class']\n",
    "X_test, y_test = test_df['Segment'], test_df['class']\n",
    "\n",
    "# Convert text to numerical features using TF-IDF\n",
    "vectorizer = TfidfVectorizer(ngram_range=(1, 1), max_features=5000)\n",
    "X_train_tfidf = vectorizer.fit_transform(X_train)\n",
    "X_val_tfidf = vectorizer.transform(X_val)\n",
    "X_test_tfidf = vectorizer.transform(X_test)\n",
    "\n",
    "# Train a Logistic Regression classifier\n",
    "logreg_model = LogisticRegression(max_iter=1000, random_state=42)\n",
    "logreg_model.fit(X_train_tfidf, y_train)\n",
    "\n",
    "# Evaluate on validation and test sets\n",
    "lr_y_val_pred = logreg_model.predict(X_val_tfidf)\n",
    "lr_y_test_pred = logreg_model.predict(X_test_tfidf)\n",
    "\n",
    "# Metrics for validation set\n",
    "lr_val_accuracy = accuracy_score(y_val, lr_y_val_pred)\n",
    "lr_val_class_report = classification_report(y_val, lr_y_val_pred, zero_division=0)\n",
    "lr_val_cohen_kappa = cohen_kappa_score(y_val, lr_y_val_pred)\n",
    "lr_val_cm = confusion_matrix(y_val, lr_y_val_pred)\n",
    "\n",
    "# Metrics for test set\n",
    "lr_test_accuracy = accuracy_score(y_test, lr_y_test_pred)\n",
    "lr_test_class_report = classification_report(y_test, lr_y_test_pred, zero_division=0)\n",
    "lr_test_cohen_kappa = cohen_kappa_score(y_test, lr_y_test_pred)\n",
    "lr_test_cm = confusion_matrix(y_test, lr_y_test_pred)\n",
    "\n",
    "# Print results\n",
    "print(\"Validation Set Results:\")\n",
    "print(f\"Accuracy: {lr_val_accuracy:.2f}\")\n",
    "print(f\"Cohen's Kappa: {lr_val_cohen_kappa:.2f}\")\n",
    "print(\"Classification Report:\")\n",
    "print(lr_val_class_report)\n",
    "plt.figure(figsize=(6,4))\n",
    "sns.heatmap(lr_val_cm, annot=True, fmt='d', cmap='Blues', xticklabels=sorted(set(y_val)), yticklabels=sorted(set(y_val)))\n",
    "plt.xlabel(\"Predicted Label\")\n",
    "plt.ylabel(\"True Label\")\n",
    "plt.title(\"Validation Confusion Matrix\")\n",
    "plt.show()\n",
    "\n",
    "print(\"\\nTest Set Results:\")\n",
    "print(f\"Accuracy: {lr_test_accuracy:.2f}\")\n",
    "print(f\"Cohen's Kappa: {lr_test_cohen_kappa:.2f}\")\n",
    "print(\"Classification Report:\")\n",
    "print(lr_test_class_report)\n",
    "plt.figure(figsize=(6,4))\n",
    "sns.heatmap(lr_test_cm, annot=True, fmt='d', cmap='Blues', xticklabels=sorted(set(y_test)), yticklabels=sorted(set(y_test)))\n",
    "plt.xlabel(\"Predicted Label\")\n",
    "plt.ylabel(\"True Label\")\n",
    "plt.title(\"Test Confusion Matrix\")\n",
    "plt.show()"
   ]
  },
  {
   "cell_type": "code",
   "execution_count": 25,
   "id": "1875f449-533b-4636-8801-0dad1318dc48",
   "metadata": {},
   "outputs": [
    {
     "name": "stdout",
     "output_type": "stream",
     "text": [
      "\n",
      "Top words for class 0:\n",
      "model: 0.6468\n",
      "our: 0.6306\n",
      "we: 0.5792\n",
      "data: 0.5396\n",
      "improve: 0.5375\n",
      "processing: 0.5064\n",
      "principles: 0.4459\n",
      "workflow: 0.4322\n",
      "lectures: 0.4277\n",
      "achieve: 0.4105\n",
      "\n",
      "Top words for class 1:\n",
      "science: 0.7233\n",
      "constant: 0.7190\n",
      "human: 0.7037\n",
      "assignments: 0.6740\n",
      "must: 0.6210\n",
      "became: 0.5990\n",
      "concepts: 0.5756\n",
      "needs: 0.5632\n",
      "thank: 0.5518\n",
      "nice: 0.5518\n",
      "\n",
      "Top words for class 2:\n",
      "was: 1.0213\n",
      "me: 0.7762\n",
      "fairness: 0.7444\n",
      "as: 0.6346\n",
      "this: 0.6168\n",
      "licensing: 0.6136\n",
      "course: 0.6029\n",
      "because: 0.6023\n",
      "learnt: 0.5934\n",
      "tool: 0.5377\n",
      "\n",
      "Top words for class 3:\n",
      "would: 1.0862\n",
      "making: 0.7020\n",
      "concepts: 0.6405\n",
      "decision: 0.6347\n",
      "them: 0.5903\n",
      "my: 0.5648\n",
      "make: 0.5458\n",
      "we: 0.5260\n",
      "other: 0.4976\n",
      "practice: 0.4932\n",
      "\n",
      "Top words for class 4:\n",
      "to: 1.0906\n",
      "social: 1.0633\n",
      "is: 1.0377\n",
      "document: 0.9702\n",
      "that: 0.9187\n",
      "of: 0.7998\n",
      "society: 0.7832\n",
      "impact: 0.7691\n",
      "responsibility: 0.7638\n",
      "if: 0.7481\n"
     ]
    }
   ],
   "source": [
    "# Get the feature names (words) from the TF-IDF vectorizer\n",
    "feature_names = np.array(vectorizer.get_feature_names_out())\n",
    "\n",
    "# Get the feature importance (coefficients)\n",
    "class_feature_coefs = logreg_model.coef_\n",
    "\n",
    "# For each class, find the most important words\n",
    "for class_idx, class_coefs in enumerate(class_feature_coefs):\n",
    "    print(f\"\\nTop words for class {class_idx}:\")\n",
    "\n",
    "    # Get the indices of the top 10 words (sorted by importance)\n",
    "    top10_idx = class_coefs.argsort()[-10:][::-1]\n",
    "\n",
    "    # Display the words and their importance\n",
    "    for idx in top10_idx:\n",
    "        print(f\"{feature_names[idx]}: {class_coefs[idx]:.4f}\")"
   ]
  },
  {
   "cell_type": "code",
   "execution_count": 26,
   "id": "a77c7009-7fea-4936-bf08-1b0c5faadc81",
   "metadata": {},
   "outputs": [
    {
     "name": "stdout",
     "output_type": "stream",
     "text": [
      "\n",
      "Global Top 20 Important Words:\n",
      "to: 0.5061\n",
      "concepts: 0.4864\n",
      "would: 0.4699\n",
      "me: 0.4578\n",
      "that: 0.4520\n",
      "the: 0.4467\n",
      "we: 0.4421\n",
      "was: 0.4391\n",
      "social: 0.4253\n",
      "this: 0.4231\n",
      "is: 0.4151\n",
      "document: 0.4082\n",
      "of: 0.4030\n",
      "will: 0.4026\n",
      "have: 0.4018\n",
      "science: 0.3927\n",
      "not: 0.3924\n",
      "but: 0.3566\n",
      "as: 0.3501\n",
      "data: 0.3377\n"
     ]
    }
   ],
   "source": [
    "# Get the average feature importance across all classes\n",
    "global_feature_importance = np.mean(np.abs(class_feature_coefs), axis=0)\n",
    "\n",
    "# Get the top 20 most important features globally\n",
    "top20_global_idx = global_feature_importance.argsort()[-20:][::-1]\n",
    "\n",
    "print(\"\\nGlobal Top 20 Important Words:\")\n",
    "for idx in top20_global_idx:\n",
    "    print(f\"{feature_names[idx]}: {global_feature_importance[idx]:.4f}\")"
   ]
  },
  {
   "cell_type": "code",
   "execution_count": null,
   "id": "22f6e775-c8ad-44f0-abec-aa9309c3d9ae",
   "metadata": {},
   "outputs": [],
   "source": []
  }
 ],
 "metadata": {
  "kernelspec": {
   "display_name": "Python 3 (ipykernel)",
   "language": "python",
   "name": "python3"
  },
  "language_info": {
   "codemirror_mode": {
    "name": "ipython",
    "version": 3
   },
   "file_extension": ".py",
   "mimetype": "text/x-python",
   "name": "python",
   "nbconvert_exporter": "python",
   "pygments_lexer": "ipython3",
   "version": "3.12.4"
  }
 },
 "nbformat": 4,
 "nbformat_minor": 5
}
