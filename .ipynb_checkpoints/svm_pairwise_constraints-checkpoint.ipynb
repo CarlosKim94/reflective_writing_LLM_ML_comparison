{
 "cells": [
  {
   "cell_type": "code",
   "execution_count": 2,
   "id": "7aae93c4-b3a4-495d-b2a5-03c41c81805c",
   "metadata": {},
   "outputs": [],
   "source": [
    "import pandas as pd\n",
    "import numpy as np\n",
    "import torch\n",
    "import seaborn as sns\n",
    "import matplotlib.pyplot as plt\n",
    "from sklearn.model_selection import train_test_split\n",
    "from sklearn.feature_extraction.text import TfidfVectorizer\n",
    "from sklearn.svm import SVC, SVR\n",
    "from sklearn.ensemble import RandomForestClassifier\n",
    "from sklearn.preprocessing import OrdinalEncoder\n",
    "from sklearn.metrics import classification_report, accuracy_score, cohen_kappa_score, confusion_matrix\n",
    "from imblearn.over_sampling import RandomOverSampler\n",
    "import warnings\n",
    "warnings.filterwarnings(\"ignore\")"
   ]
  },
  {
   "cell_type": "code",
   "execution_count": 3,
   "id": "d12277a3-ef27-44e1-a15f-7d148ea4c349",
   "metadata": {},
   "outputs": [
    {
     "name": "stdout",
     "output_type": "stream",
     "text": [
      "               Dokumentname         Code  Anfang  Ende  \\\n",
      "0  reflection_assignment_P1      Level 1       1     1   \n",
      "1  reflection_assignment_P1      Level 1       1     1   \n",
      "2  reflection_assignment_P1      Level 1       1     1   \n",
      "3  reflection_assignment_P1  Level 2 (a)       1     1   \n",
      "4  reflection_assignment_P1  Level 2 (a)       1     1   \n",
      "\n",
      "                                             Segment  \n",
      "0  I am a newbie in data science (DS). On the one...  \n",
      "1  However, the handling of data in basic cogniti...  \n",
      "2  The HCDS course was largely aimed at a critica...  \n",
      "3  Among these topics, some messages particularly...  \n",
      "4  First of all, I became aware of the importance...  \n"
     ]
    }
   ],
   "source": [
    "df = pd.read_csv(\"Coded_Segments.csv\")\n",
    "print(df.head())"
   ]
  },
  {
   "cell_type": "code",
   "execution_count": 4,
   "id": "8d4a94ba-6598-419b-a1ba-506d4c182c6d",
   "metadata": {},
   "outputs": [
    {
     "data": {
      "text/plain": [
       "Code\n",
       "Level 3        90\n",
       "Level 1        69\n",
       "Level 2 (b)    41\n",
       "Level 2 (a)    31\n",
       "Level 4         6\n",
       "Name: count, dtype: int64"
      ]
     },
     "execution_count": 4,
     "metadata": {},
     "output_type": "execute_result"
    }
   ],
   "source": [
    "df['Code'].value_counts()"
   ]
  },
  {
   "cell_type": "code",
   "execution_count": 5,
   "id": "9b1cb1dc-7076-4e07-9f37-4daa972dcb5c",
   "metadata": {},
   "outputs": [
    {
     "data": {
      "text/plain": [
       "(array([69.,  0., 31.,  0.,  0., 41.,  0., 90.,  0.,  6.]),\n",
       " array([0. , 0.4, 0.8, 1.2, 1.6, 2. , 2.4, 2.8, 3.2, 3.6, 4. ]),\n",
       " <BarContainer object of 10 artists>)"
      ]
     },
     "execution_count": 5,
     "metadata": {},
     "output_type": "execute_result"
    },
    {
     "data": {
      "image/png": "[encoded data removed]",
      "text/plain": [
       "<Figure size 640x480 with 1 Axes>"
      ]
     },
     "metadata": {},
     "output_type": "display_data"
    }
   ],
   "source": [
    "plt.hist(sorted(df['Code']))"
   ]
  },
  {
   "cell_type": "code",
   "execution_count": 6,
   "id": "50f2fb84-4329-4653-894d-0996d96ac8b2",
   "metadata": {},
   "outputs": [],
   "source": [
    "def preprocess_data(df: pd.DataFrame) -> pd.DataFrame:\n",
    "    ordinal_mapping = ['Level 1', 'Level 2 (a)', 'Level 2 (b)', 'Level 3', 'Level 4']  # Ensure correct order\n",
    "    oe = OrdinalEncoder(categories=[ordinal_mapping]) # Define order\n",
    "    df['class'] = oe.fit_transform(df[['Code']]).astype(int).flatten()\n",
    "\n",
    "    # handle imbalanced dataset\n",
    "    ros = RandomOverSampler(random_state=42)\n",
    "    X_resampled, y_resampled = ros.fit_resample(df[['Segment']], df['class'])\n",
    "    df_resampled = pd.DataFrame({'Segment': X_resampled['Segment'], 'class': y_resampled})\n",
    "\n",
    "    print(f\"Original dataset shape: {df.shape}\")\n",
    "    print(f\"Resampled dataset shape: {df_resampled.shape}\")\n",
    "\n",
    "    return df_resampled, oe"
   ]
  },
  {
   "cell_type": "code",
   "execution_count": 7,
   "id": "20714124-c9cc-4de9-923e-a732d5fcc6bb",
   "metadata": {},
   "outputs": [
    {
     "name": "stdout",
     "output_type": "stream",
     "text": [
      "Original dataset shape: (237, 6)\n",
      "Resampled dataset shape: (450, 2)\n",
      "                                               Segment  class\n",
      "0    I am a newbie in data science (DS). On the one...      0\n",
      "1    However, the handling of data in basic cogniti...      0\n",
      "2    The HCDS course was largely aimed at a critica...      0\n",
      "3    Among these topics, some messages particularly...      1\n",
      "4    First of all, I became aware of the importance...      1\n",
      "..                                                 ...    ...\n",
      "445  The first concern, to begin  with, is to check...      4\n",
      "446  The first concern, to begin  with, is to check...      4\n",
      "447  Social nuances have shown how important it is ...      4\n",
      "448  It also made me realise the high personal resp...      4\n",
      "449  As an when my experience grew, I started to un...      4\n",
      "\n",
      "[450 rows x 2 columns]\n"
     ]
    }
   ],
   "source": [
    "df_resampled, ordinal_encoder = preprocess_data(df)\n",
    "print(df_resampled)"
   ]
  },
  {
   "cell_type": "code",
   "execution_count": 8,
   "id": "40594027-c99b-4c68-92b8-e03f3cb1a75b",
   "metadata": {},
   "outputs": [
    {
     "data": {
      "text/plain": [
       "class\n",
       "0    90\n",
       "1    90\n",
       "4    90\n",
       "2    90\n",
       "3    90\n",
       "Name: count, dtype: int64"
      ]
     },
     "execution_count": 8,
     "metadata": {},
     "output_type": "execute_result"
    }
   ],
   "source": [
    "df_resampled['class'].value_counts()"
   ]
  },
  {
   "cell_type": "code",
   "execution_count": 9,
   "id": "1b9cac4e-2974-4981-af05-56672f879099",
   "metadata": {},
   "outputs": [
    {
     "data": {
      "text/plain": [
       "(array([90.,  0., 90.,  0.,  0., 90.,  0., 90.,  0., 90.]),\n",
       " array([0. , 0.4, 0.8, 1.2, 1.6, 2. , 2.4, 2.8, 3.2, 3.6, 4. ]),\n",
       " <BarContainer object of 10 artists>)"
      ]
     },
     "execution_count": 9,
     "metadata": {},
     "output_type": "execute_result"
    },
    {
     "data": {
      "image/png": "[encoded data removed]",
      "text/plain": [
       "<Figure size 640x480 with 1 Axes>"
      ]
     },
     "metadata": {},
     "output_type": "display_data"
    }
   ],
   "source": [
    "plt.hist(sorted(df_resampled['class']))"
   ]
  },
  {
   "cell_type": "code",
   "execution_count": 10,
   "id": "c9855e4f-634c-4420-98fe-09282681fe5b",
   "metadata": {},
   "outputs": [],
   "source": [
    "# Preprocessing\n",
    "# Split into training, validation and test sets\n",
    "train_df, temp_df = train_test_split(df_resampled, test_size=0.3, stratify=df_resampled['class'], random_state=42)\n",
    "val_df, test_df = train_test_split(temp_df, test_size=0.5, stratify=temp_df['class'], random_state=42)\n",
    "\n",
    "# Extract text and labels\n",
    "X_train, y_train = train_df['Segment'], train_df['class']\n",
    "X_val, y_val = val_df['Segment'], val_df['class']\n",
    "X_test, y_test = test_df['Segment'], test_df['class']\n",
    "\n",
    "# Convert text to numerical features using TF-IDF\n",
    "vectorizer = TfidfVectorizer(stop_words='english', max_features=5000)\n",
    "X_train_tfidf = vectorizer.fit_transform(X_train)\n",
    "X_val_tfidf = vectorizer.transform(X_val)\n",
    "X_test_tfidf = vectorizer.transform(X_test)"
   ]
  },
  {
   "cell_type": "code",
   "execution_count": 11,
   "id": "570805a5-4dd7-4ecb-bb66-cbb91eab8c75",
   "metadata": {},
   "outputs": [
    {
     "name": "stdout",
     "output_type": "stream",
     "text": [
      "Validation Set Results:\n",
      "Accuracy: 0.69\n",
      "Cohen's Kappa: 0.61\n",
      "Classification Report:\n",
      "              precision    recall  f1-score   support\n",
      "\n",
      "           0       1.00      0.54      0.70        13\n",
      "           1       0.62      0.93      0.74        14\n",
      "           2       0.48      0.92      0.63        13\n",
      "           3       0.00      0.00      0.00        13\n",
      "           4       1.00      1.00      1.00        14\n",
      "\n",
      "    accuracy                           0.69        67\n",
      "   macro avg       0.62      0.68      0.61        67\n",
      "weighted avg       0.63      0.69      0.62        67\n",
      "\n"
     ]
    },
    {
     "data": {
      "image/png": "[encoded data removed]",
      "text/plain": [
       "<Figure size 600x400 with 2 Axes>"
      ]
     },
     "metadata": {},
     "output_type": "display_data"
    },
    {
     "name": "stdout",
     "output_type": "stream",
     "text": [
      "\n",
      "Test Set Results:\n",
      "Accuracy: 0.71\n",
      "Cohen's Kappa: 0.63\n",
      "Classification Report:\n",
      "              precision    recall  f1-score   support\n",
      "\n",
      "           0       1.00      0.57      0.73        14\n",
      "           1       0.63      0.92      0.75        13\n",
      "           2       0.52      1.00      0.68        14\n",
      "           3       1.00      0.07      0.13        14\n",
      "           4       1.00      1.00      1.00        13\n",
      "\n",
      "    accuracy                           0.71        68\n",
      "   macro avg       0.83      0.71      0.66        68\n",
      "weighted avg       0.83      0.71      0.65        68\n",
      "\n"
     ]
    },
    {
     "data": {
      "image/png": "[encoded data removed]",
      "text/plain": [
       "<Figure size 600x400 with 2 Axes>"
      ]
     },
     "metadata": {},
     "output_type": "display_data"
    }
   ],
   "source": [
    "# Get unique ordinal levels\n",
    "unique_classes = sorted(y_train.unique())\n",
    "thresholds = unique_classes[:-1]  # Exclude last class (no threshold needed)\n",
    "num_classes = len(unique_classes)\n",
    "num_classes\n",
    "\n",
    "# Train multiple SVM models (Pairwise constraints)\n",
    "svm_models = []\n",
    "for threshold in thresholds:\n",
    "    binary_labels = (y_train > threshold).astype(int)  # \"Is class >= k?\"\n",
    "    svm = SVC(kernel='linear', probability=True, random_state=42)\n",
    "    svm.fit(X_train_tfidf, binary_labels)\n",
    "    svm_models.append(svm)\n",
    "\n",
    "# Prediction function\n",
    "def ordinal_svm_predict(models, X):\n",
    "    prob_matrix = np.zeros((X.shape[0], len(models)))\n",
    "    \n",
    "    for i, model in enumerate(models):\n",
    "        prob_matrix[:, i] = model.predict_proba(X)[:, 1]  # Prob of class ≥ k\n",
    "    \n",
    "    predictions = prob_matrix.sum(axis=1)  # Count how many thresholds are exceeded\n",
    "    return np.clip(predictions.round().astype(int), 0, num_classes - 1)  # Ensure within valid range\n",
    "\n",
    "# Predictions\n",
    "pcsvm_y_val_pred = ordinal_svm_predict(svm_models, X_val_tfidf)\n",
    "pcsvm_y_test_pred = ordinal_svm_predict(svm_models, X_test_tfidf)\n",
    "\n",
    "# Evaludation metrics for validation set\n",
    "pcsvm_val_accuracy = accuracy_score(y_val, pcsvm_y_val_pred)\n",
    "pcsvm_val_class_report = classification_report(y_val, pcsvm_y_val_pred, zero_division=0)\n",
    "pcsvm_val_cohen_kappa = cohen_kappa_score(y_val, pcsvm_y_val_pred)\n",
    "pcsvm_val_cm = confusion_matrix(y_val, pcsvm_y_val_pred)\n",
    "\n",
    "# Evaludation metrics for test set\n",
    "pcsvm_test_accuracy = accuracy_score(y_test, pcsvm_y_test_pred)\n",
    "pcsvm_test_class_report = classification_report(y_test, pcsvm_y_test_pred, zero_division=0)\n",
    "pcsvm_test_cohen_kappa = cohen_kappa_score(y_test, pcsvm_y_test_pred)\n",
    "pcsvm_test_cm = confusion_matrix(y_test, pcsvm_y_test_pred)\n",
    "\n",
    "# Print results\n",
    "print(\"Validation Set Results:\")\n",
    "print(f\"Accuracy: {pcsvm_val_accuracy:.2f}\")\n",
    "print(f\"Cohen's Kappa: {pcsvm_val_cohen_kappa:.2f}\")\n",
    "print(\"Classification Report:\")\n",
    "print(pcsvm_val_class_report)\n",
    "plt.figure(figsize=(6,4))\n",
    "sns.heatmap(pcsvm_val_cm, annot=True, fmt='d', cmap='Blues', xticklabels=sorted(set(y_val)), yticklabels=sorted(set(y_val)))\n",
    "plt.xlabel(\"Predicted Label\")\n",
    "plt.ylabel(\"True Label\")\n",
    "plt.title(\"Validation Confusion Matrix\")\n",
    "plt.show()\n",
    "\n",
    "print(\"\\nTest Set Results:\")\n",
    "print(f\"Accuracy: {pcsvm_test_accuracy:.2f}\")\n",
    "print(f\"Cohen's Kappa: {pcsvm_test_cohen_kappa:.2f}\")\n",
    "print(\"Classification Report:\")\n",
    "print(pcsvm_test_class_report)\n",
    "plt.figure(figsize=(6,4))\n",
    "sns.heatmap(pcsvm_test_cm, annot=True, fmt='d', cmap='Blues', xticklabels=sorted(set(y_test)), yticklabels=sorted(set(y_test)))\n",
    "plt.xlabel(\"Predicted Label\")\n",
    "plt.ylabel(\"True Label\")\n",
    "plt.title(\"Test Confusion Matrix\")\n",
    "plt.show()"
   ]
  },
  {
   "cell_type": "code",
   "execution_count": 13,
   "id": "a75a2e3c-109c-46cd-a9e8-93ef47832c15",
   "metadata": {},
   "outputs": [
    {
     "name": "stdout",
     "output_type": "stream",
     "text": [
      "\n",
      "Top words for class 0:\n",
      "data: 0.0883\n",
      "model: 0.0520\n",
      "science: 0.0483\n",
      "practice: 0.0306\n",
      "course: 0.0275\n",
      "human: 0.0259\n",
      "bias: 0.0249\n",
      "learning: 0.0245\n",
      "principles: 0.0215\n",
      "processing: 0.0209\n",
      "\n",
      "Top words for class 1:\n",
      "concepts: 0.0257\n",
      "course: 0.0239\n",
      "box: 0.0198\n",
      "learned: 0.0189\n",
      "human: 0.0172\n",
      "black: 0.0142\n",
      "approach: 0.0119\n",
      "work: 0.0108\n",
      "assignments: 0.0107\n",
      "pre: 0.0093\n",
      "\n",
      "Top words for class 2:\n",
      "course: 0.0966\n",
      "understand: 0.0333\n",
      "new: 0.0327\n",
      "learnt: 0.0313\n",
      "given: 0.0289\n",
      "licensing: 0.0269\n",
      "score: 0.0254\n",
      "study: 0.0250\n",
      "fairness: 0.0247\n",
      "work: 0.0228\n",
      "\n",
      "Top words for class 3:\n",
      "understand: 0.0708\n",
      "new: 0.0706\n",
      "decision: 0.0694\n",
      "concepts: 0.0677\n",
      "people: 0.0630\n",
      "project: 0.0609\n",
      "making: 0.0579\n",
      "course: 0.0459\n",
      "good: 0.0385\n",
      "attributes: 0.0352\n",
      "\n",
      "Top words for class 4:\n",
      "social: 0.2171\n",
      "society: 0.1861\n",
      "document: 0.1714\n",
      "impact: 0.1342\n",
      "project: 0.1140\n",
      "important: 0.1088\n",
      "context: 0.0997\n",
      "feel: 0.0958\n",
      "things: 0.0918\n",
      "responsibility: 0.0903\n"
     ]
    }
   ],
   "source": [
    "# Get feature names\n",
    "feature_names = vectorizer.get_feature_names_out()\n",
    "n_features = len(feature_names)\n",
    "\n",
    "# Collect model coefficients from each binary SVM\n",
    "model_coefs = [model.coef_.toarray().flatten() for model in svm_models]  # shape (n_thresholds, n_features)\n",
    "\n",
    "# For each class, compute average TF-IDF and rank important features\n",
    "for class_label in sorted(y_train.unique()):\n",
    "    print(f\"\\nTop words for class {class_label}:\")\n",
    "\n",
    "    # Get average TF-IDF for documents of this class\n",
    "    class_docs = X_train_tfidf[np.array(y_train) == class_label]\n",
    "    avg_tfidf = class_docs.mean(axis=0).A1  # shape (n_features,)\n",
    "\n",
    "    # Combine all models' contributions to this class\n",
    "    # Logic: for class `k`, we care about classifiers for thresholds ≤ k\n",
    "    # (since we use ≥ thresholds and sum them for prediction)\n",
    "    class_importance = np.zeros(n_features)\n",
    "    for i, coef in enumerate(model_coefs):\n",
    "        if class_label == 0:\n",
    "            # Class 0 = samples where none of the thresholds are passed\n",
    "            class_docs = X_train_tfidf[np.array(y_train) == class_label]\n",
    "            avg_tfidf = class_docs.mean(axis=0).A1\n",
    "            class_importance = avg_tfidf  # Just show top features from frequency\n",
    "        if class_label > i:  # This model affects this class\n",
    "            class_importance += coef * avg_tfidf\n",
    "\n",
    "    # Top 10 feature indices for this class\n",
    "    top10_idx = class_importance.argsort()[-10:][::-1]\n",
    "\n",
    "    # Print top 10 words\n",
    "    for idx in top10_idx:\n",
    "        print(f\"{feature_names[idx]}: {class_importance[idx]:.4f}\")"
   ]
  },
  {
   "cell_type": "code",
   "execution_count": 14,
   "id": "a8c27681-f4fb-488e-be5e-421bf00f1910",
   "metadata": {},
   "outputs": [
    {
     "name": "stdout",
     "output_type": "stream",
     "text": [
      "\n",
      "Global Top 20 Important Words:\n",
      "understand: 0.7519\n",
      "new: 0.6914\n",
      "processing: 0.6665\n",
      "feel: 0.6652\n",
      "decision: 0.6560\n",
      "lectures: 0.6427\n",
      "society: 0.6240\n",
      "document: 0.6210\n",
      "people: 0.5932\n",
      "making: 0.5731\n",
      "social: 0.5678\n",
      "science: 0.5675\n",
      "different: 0.5590\n",
      "personal: 0.5534\n",
      "things: 0.5527\n",
      "concepts: 0.5476\n",
      "believe: 0.5398\n",
      "project: 0.5345\n",
      "ensure: 0.5297\n",
      "frameworks: 0.5269\n"
     ]
    }
   ],
   "source": [
    "# Get feature names from the vectorizer\n",
    "feature_names = np.array(vectorizer.get_feature_names_out())\n",
    "\n",
    "# Accumulate absolute coefficients from each threshold model\n",
    "coef_matrix = np.zeros((len(svm_models), len(feature_names)))\n",
    "\n",
    "for i, model in enumerate(svm_models):\n",
    "    coef_matrix[i] = np.abs(model.coef_.toarray().flatten())\n",
    "\n",
    "# Mean importance across all models\n",
    "global_feature_importance = coef_matrix.mean(axis=0)\n",
    "\n",
    "# Get indices of top 20 important features\n",
    "top20_idx = global_feature_importance.argsort()[-20:][::-1]\n",
    "\n",
    "print(\"\\nGlobal Top 20 Important Words:\")\n",
    "for idx in top20_idx:\n",
    "    print(f\"{feature_names[idx]}: {global_feature_importance[idx]:.4f}\")"
   ]
  }
 ],
 "metadata": {
  "kernelspec": {
   "display_name": "Python 3 (ipykernel)",
   "language": "python",
   "name": "python3"
  },
  "language_info": {
   "codemirror_mode": {
    "name": "ipython",
    "version": 3
   },
   "file_extension": ".py",
   "mimetype": "text/x-python",
   "name": "python",
   "nbconvert_exporter": "python",
   "pygments_lexer": "ipython3",
   "version": "3.12.4"
  }
 },
 "nbformat": 4,
 "nbformat_minor": 5
}
