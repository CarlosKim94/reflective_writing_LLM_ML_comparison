{
 "cells": [
  {
   "cell_type": "code",
   "execution_count": 19,
   "id": "7aae93c4-b3a4-495d-b2a5-03c41c81805c",
   "metadata": {},
   "outputs": [],
   "source": [
    "import pandas as pd\n",
    "import numpy as np\n",
    "import torch\n",
    "import seaborn as sns\n",
    "import matplotlib.pyplot as plt\n",
    "from sklearn.model_selection import train_test_split\n",
    "from sklearn.feature_extraction.text import TfidfVectorizer\n",
    "from sklearn.svm import SVC, SVR\n",
    "from sklearn.ensemble import RandomForestClassifier\n",
    "from sklearn.preprocessing import OrdinalEncoder\n",
    "from sklearn.metrics import classification_report, accuracy_score, cohen_kappa_score, confusion_matrix\n",
    "from imblearn.over_sampling import RandomOverSampler\n",
    "import warnings\n",
    "warnings.filterwarnings(\"ignore\")"
   ]
  },
  {
   "cell_type": "code",
   "execution_count": 3,
   "id": "d12277a3-ef27-44e1-a15f-7d148ea4c349",
   "metadata": {},
   "outputs": [
    {
     "name": "stdout",
     "output_type": "stream",
     "text": [
      "               Dokumentname         Code  Anfang  Ende  \\\n",
      "0  reflection_assignment_P1      Level 1       1     1   \n",
      "1  reflection_assignment_P1      Level 1       1     1   \n",
      "2  reflection_assignment_P1      Level 1       1     1   \n",
      "3  reflection_assignment_P1  Level 2 (a)       1     1   \n",
      "4  reflection_assignment_P1  Level 2 (a)       1     1   \n",
      "\n",
      "                                             Segment  \n",
      "0  I am a newbie in data science (DS). On the one...  \n",
      "1  However, the handling of data in basic cogniti...  \n",
      "2  The HCDS course was largely aimed at a critica...  \n",
      "3  Among these topics, some messages particularly...  \n",
      "4  First of all, I became aware of the importance...  \n"
     ]
    }
   ],
   "source": [
    "df = pd.read_csv(\"Coded_Segments.csv\")\n",
    "print(df.head())"
   ]
  },
  {
   "cell_type": "code",
   "execution_count": 4,
   "id": "8d4a94ba-6598-419b-a1ba-506d4c182c6d",
   "metadata": {},
   "outputs": [
    {
     "data": {
      "text/plain": [
       "Code\n",
       "Level 3        90\n",
       "Level 1        69\n",
       "Level 2 (b)    41\n",
       "Level 2 (a)    31\n",
       "Level 4         6\n",
       "Name: count, dtype: int64"
      ]
     },
     "execution_count": 4,
     "metadata": {},
     "output_type": "execute_result"
    }
   ],
   "source": [
    "df['Code'].value_counts()"
   ]
  },
  {
   "cell_type": "code",
   "execution_count": 5,
   "id": "9b1cb1dc-7076-4e07-9f37-4daa972dcb5c",
   "metadata": {},
   "outputs": [
    {
     "data": {
      "text/plain": [
       "(array([69.,  0., 31.,  0.,  0., 41.,  0., 90.,  0.,  6.]),\n",
       " array([0. , 0.4, 0.8, 1.2, 1.6, 2. , 2.4, 2.8, 3.2, 3.6, 4. ]),\n",
       " <BarContainer object of 10 artists>)"
      ]
     },
     "execution_count": 5,
     "metadata": {},
     "output_type": "execute_result"
    },
    {
     "data": {
      "image/png": "[encoded data removed]",
      "text/plain": [
       "<Figure size 640x480 with 1 Axes>"
      ]
     },
     "metadata": {},
     "output_type": "display_data"
    }
   ],
   "source": [
    "plt.hist(sorted(df['Code']))"
   ]
  },
  {
   "cell_type": "code",
   "execution_count": 6,
   "id": "50f2fb84-4329-4653-894d-0996d96ac8b2",
   "metadata": {},
   "outputs": [],
   "source": [
    "def preprocess_data(df: pd.DataFrame) -> pd.DataFrame:\n",
    "    ordinal_mapping = ['Level 1', 'Level 2 (a)', 'Level 2 (b)', 'Level 3', 'Level 4']  # Ensure correct order\n",
    "    oe = OrdinalEncoder(categories=[ordinal_mapping]) # Define order\n",
    "    df['class'] = oe.fit_transform(df[['Code']]).astype(int).flatten()\n",
    "\n",
    "    # handle imbalanced dataset\n",
    "    ros = RandomOverSampler(random_state=42)\n",
    "    X_resampled, y_resampled = ros.fit_resample(df[['Segment']], df['class'])\n",
    "    df_resampled = pd.DataFrame({'Segment': X_resampled['Segment'], 'class': y_resampled})\n",
    "\n",
    "    print(f\"Original dataset shape: {df.shape}\")\n",
    "    print(f\"Resampled dataset shape: {df_resampled.shape}\")\n",
    "\n",
    "    return df_resampled, oe"
   ]
  },
  {
   "cell_type": "code",
   "execution_count": 7,
   "id": "20714124-c9cc-4de9-923e-a732d5fcc6bb",
   "metadata": {},
   "outputs": [
    {
     "name": "stdout",
     "output_type": "stream",
     "text": [
      "Original dataset shape: (237, 6)\n",
      "Resampled dataset shape: (450, 2)\n",
      "                                               Segment  class\n",
      "0    I am a newbie in data science (DS). On the one...      0\n",
      "1    However, the handling of data in basic cogniti...      0\n",
      "2    The HCDS course was largely aimed at a critica...      0\n",
      "3    Among these topics, some messages particularly...      1\n",
      "4    First of all, I became aware of the importance...      1\n",
      "..                                                 ...    ...\n",
      "445  The first concern, to begin  with, is to check...      4\n",
      "446  The first concern, to begin  with, is to check...      4\n",
      "447  Social nuances have shown how important it is ...      4\n",
      "448  It also made me realise the high personal resp...      4\n",
      "449  As an when my experience grew, I started to un...      4\n",
      "\n",
      "[450 rows x 2 columns]\n"
     ]
    }
   ],
   "source": [
    "df_resampled, ordinal_encoder = preprocess_data(df)\n",
    "print(df_resampled)"
   ]
  },
  {
   "cell_type": "code",
   "execution_count": 8,
   "id": "40594027-c99b-4c68-92b8-e03f3cb1a75b",
   "metadata": {},
   "outputs": [
    {
     "data": {
      "text/plain": [
       "class\n",
       "0    90\n",
       "1    90\n",
       "4    90\n",
       "2    90\n",
       "3    90\n",
       "Name: count, dtype: int64"
      ]
     },
     "execution_count": 8,
     "metadata": {},
     "output_type": "execute_result"
    }
   ],
   "source": [
    "df_resampled['class'].value_counts()"
   ]
  },
  {
   "cell_type": "code",
   "execution_count": 9,
   "id": "1b9cac4e-2974-4981-af05-56672f879099",
   "metadata": {},
   "outputs": [
    {
     "data": {
      "text/plain": [
       "(array([90.,  0., 90.,  0.,  0., 90.,  0., 90.,  0., 90.]),\n",
       " array([0. , 0.4, 0.8, 1.2, 1.6, 2. , 2.4, 2.8, 3.2, 3.6, 4. ]),\n",
       " <BarContainer object of 10 artists>)"
      ]
     },
     "execution_count": 9,
     "metadata": {},
     "output_type": "execute_result"
    },
    {
     "data": {
      "image/png": "[encoded data removed]",
      "text/plain": [
       "<Figure size 640x480 with 1 Axes>"
      ]
     },
     "metadata": {},
     "output_type": "display_data"
    }
   ],
   "source": [
    "plt.hist(sorted(df_resampled['class']))"
   ]
  },
  {
   "cell_type": "code",
   "execution_count": 10,
   "id": "c9855e4f-634c-4420-98fe-09282681fe5b",
   "metadata": {},
   "outputs": [],
   "source": [
    "# Preprocessing\n",
    "# Split into training, validation and test sets\n",
    "train_df, temp_df = train_test_split(df_resampled, test_size=0.3, stratify=df_resampled['class'], random_state=42)\n",
    "val_df, test_df = train_test_split(temp_df, test_size=0.5, stratify=temp_df['class'], random_state=42)\n",
    "\n",
    "# Extract text and labels\n",
    "X_train, y_train = train_df['Segment'], train_df['class']\n",
    "X_val, y_val = val_df['Segment'], val_df['class']\n",
    "X_test, y_test = test_df['Segment'], test_df['class']\n",
    "\n",
    "# Convert text to numerical features using TF-IDF\n",
    "vectorizer = TfidfVectorizer(stop_words='english', max_features=5000)\n",
    "X_train_tfidf = vectorizer.fit_transform(X_train)\n",
    "X_val_tfidf = vectorizer.transform(X_val)\n",
    "X_test_tfidf = vectorizer.transform(X_test)"
   ]
  },
  {
   "cell_type": "code",
   "execution_count": 11,
   "id": "2af74d68-bda1-44a7-b4eb-50e38c6abb6f",
   "metadata": {},
   "outputs": [
    {
     "name": "stdout",
     "output_type": "stream",
     "text": [
      "Validation Set Results:\n",
      "Accuracy: 0.81\n",
      "Cohen's Kappa: 0.76\n",
      "Classification Report:\n",
      "              precision    recall  f1-score   support\n",
      "\n",
      "           0       0.55      0.92      0.69        13\n",
      "           1       0.87      0.93      0.90        14\n",
      "           2       1.00      0.85      0.92        13\n",
      "           3       0.80      0.31      0.44        13\n",
      "           4       1.00      1.00      1.00        14\n",
      "\n",
      "    accuracy                           0.81        67\n",
      "   macro avg       0.84      0.80      0.79        67\n",
      "weighted avg       0.85      0.81      0.79        67\n",
      "\n"
     ]
    },
    {
     "data": {
      "image/png": "[encoded data removed]",
      "text/plain": [
       "<Figure size 600x400 with 2 Axes>"
      ]
     },
     "metadata": {},
     "output_type": "display_data"
    },
    {
     "name": "stdout",
     "output_type": "stream",
     "text": [
      "\n",
      "Test Set Results:\n",
      "Accuracy: 0.76\n",
      "Cohen's Kappa: 0.71\n",
      "Classification Report:\n",
      "              precision    recall  f1-score   support\n",
      "\n",
      "           0       0.50      0.86      0.63        14\n",
      "           1       0.86      0.92      0.89        13\n",
      "           2       1.00      0.86      0.92        14\n",
      "           3       0.60      0.21      0.32        14\n",
      "           4       1.00      1.00      1.00        13\n",
      "\n",
      "    accuracy                           0.76        68\n",
      "   macro avg       0.79      0.77      0.75        68\n",
      "weighted avg       0.79      0.76      0.75        68\n",
      "\n"
     ]
    },
    {
     "data": {
      "image/png": "[encoded data removed]",
      "text/plain": [
       "<Figure size 600x400 with 2 Axes>"
      ]
     },
     "metadata": {},
     "output_type": "display_data"
    }
   ],
   "source": [
    "# Train a Random Forest model (as an approximation of Ordinal Forest)\n",
    "ord_forest = RandomForestClassifier(n_estimators=100, random_state=42)\n",
    "ord_forest.fit(X_train_tfidf, y_train)\n",
    "\n",
    "# Predictions\n",
    "of_y_val_pred = ord_forest.predict(X_val_tfidf)\n",
    "of_y_test_pred = ord_forest.predict(X_test_tfidf)\n",
    "\n",
    "# Metrics for validation set\n",
    "of_val_accuracy = accuracy_score(y_val, of_y_val_pred)\n",
    "of_val_class_report = classification_report(y_val, of_y_val_pred, zero_division=0)\n",
    "of_val_cohen_kappa = cohen_kappa_score(y_val, of_y_val_pred)\n",
    "of_val_cm = confusion_matrix(y_val, of_y_val_pred)\n",
    "\n",
    "# Metrics for test set\n",
    "of_test_accuracy = accuracy_score(y_test, of_y_test_pred)\n",
    "of_test_class_report = classification_report(y_test, of_y_test_pred, zero_division=0)\n",
    "of_test_cohen_kappa = cohen_kappa_score(y_test, of_y_test_pred)\n",
    "of_test_cm = confusion_matrix(y_test, of_y_test_pred)\n",
    "\n",
    "# Print results\n",
    "print(\"Validation Set Results:\")\n",
    "print(f\"Accuracy: {of_val_accuracy:.2f}\")\n",
    "print(f\"Cohen's Kappa: {of_val_cohen_kappa:.2f}\")\n",
    "print(\"Classification Report:\")\n",
    "print(of_val_class_report)\n",
    "plt.figure(figsize=(6,4))\n",
    "sns.heatmap(of_val_cm, annot=True, fmt='d', cmap='Blues', xticklabels=sorted(set(y_val)), yticklabels=sorted(set(y_val)))\n",
    "plt.xlabel(\"Predicted Label\")\n",
    "plt.ylabel(\"True Label\")\n",
    "plt.title(\"Validation Confusion Matrix\")\n",
    "plt.show()\n",
    "\n",
    "print(\"\\nTest Set Results:\")\n",
    "print(f\"Accuracy: {of_test_accuracy:.2f}\")\n",
    "print(f\"Cohen's Kappa: {of_test_cohen_kappa:.2f}\")\n",
    "print(\"Classification Report:\")\n",
    "print(of_test_class_report)\n",
    "plt.figure(figsize=(6,4))\n",
    "sns.heatmap(of_test_cm, annot=True, fmt='d', cmap='Blues', xticklabels=sorted(set(y_test)), yticklabels=sorted(set(y_test)))\n",
    "plt.xlabel(\"Predicted Label\")\n",
    "plt.ylabel(\"True Label\")\n",
    "plt.title(\"Test Confusion Matrix\")\n",
    "plt.show()"
   ]
  },
  {
   "cell_type": "code",
   "execution_count": 20,
   "id": "43cf8dd8-6e27-419c-9684-a0cc30c0ae45",
   "metadata": {},
   "outputs": [
    {
     "name": "stdout",
     "output_type": "stream",
     "text": [
      "\n",
      "Global Top 20 Important Words:\n",
      "impact: 0.0118\n",
      "science: 0.0108\n",
      "human: 0.0103\n",
      "course: 0.0092\n",
      "needs: 0.0084\n",
      "project: 0.0078\n",
      "data: 0.0077\n",
      "work: 0.0070\n",
      "fairness: 0.0070\n",
      "important: 0.0069\n",
      "understand: 0.0066\n",
      "decision: 0.0057\n",
      "centered: 0.0055\n",
      "related: 0.0054\n",
      "model: 0.0051\n",
      "given: 0.0049\n",
      "social: 0.0049\n",
      "practice: 0.0047\n",
      "learned: 0.0047\n",
      "things: 0.0047\n"
     ]
    }
   ],
   "source": [
    "# Get feature names\n",
    "feature_names = np.array(vectorizer.get_feature_names_out())\n",
    "\n",
    "# Get global feature importances\n",
    "global_importances = ord_forest.feature_importances_\n",
    "\n",
    "# Top 20 indices\n",
    "top20_idx = np.argsort(global_importances)[-20:][::-1]\n",
    "\n",
    "print(\"\\nGlobal Top 20 Important Words:\")\n",
    "for idx in top20_idx:\n",
    "    print(f\"{feature_names[idx]}: {global_importances[idx]:.4f}\")"
   ]
  }
 ],
 "metadata": {
  "kernelspec": {
   "display_name": "Python 3 (ipykernel)",
   "language": "python",
   "name": "python3"
  },
  "language_info": {
   "codemirror_mode": {
    "name": "ipython",
    "version": 3
   },
   "file_extension": ".py",
   "mimetype": "text/x-python",
   "name": "python",
   "nbconvert_exporter": "python",
   "pygments_lexer": "ipython3",
   "version": "3.12.4"
  }
 },
 "nbformat": 4,
 "nbformat_minor": 5
}
