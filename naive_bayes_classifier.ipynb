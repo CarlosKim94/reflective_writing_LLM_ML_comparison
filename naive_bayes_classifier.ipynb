{
 "cells": [
  {
   "cell_type": "code",
   "execution_count": 2,
   "id": "7aae93c4-b3a4-495d-b2a5-03c41c81805c",
   "metadata": {},
   "outputs": [],
   "source": [
    "import numpy as np\n",
    "import pandas as pd\n",
    "import torch\n",
    "import seaborn as sns\n",
    "import matplotlib.pyplot as plt\n",
    "from sklearn.model_selection import train_test_split\n",
    "from sklearn.feature_extraction.text import TfidfVectorizer\n",
    "from sklearn.naive_bayes import MultinomialNB\n",
    "from sklearn.linear_model import LogisticRegression\n",
    "from sklearn.svm import SVC, SVR\n",
    "from sklearn.ensemble import RandomForestClassifier\n",
    "from sklearn.preprocessing import LabelEncoder, OrdinalEncoder\n",
    "from sklearn.metrics import classification_report, accuracy_score, cohen_kappa_score, confusion_matrix\n",
    "from imblearn.over_sampling import RandomOverSampler\n",
    "import warnings\n",
    "warnings.filterwarnings(\"ignore\")"
   ]
  },
  {
   "cell_type": "code",
   "execution_count": 3,
   "id": "d12277a3-ef27-44e1-a15f-7d148ea4c349",
   "metadata": {},
   "outputs": [
    {
     "name": "stdout",
     "output_type": "stream",
     "text": [
      "               Dokumentname         Code  Anfang  Ende  \\\n",
      "0  reflection_assignment_P1      Level 1       1     1   \n",
      "1  reflection_assignment_P1      Level 1       1     1   \n",
      "2  reflection_assignment_P1      Level 1       1     1   \n",
      "3  reflection_assignment_P1  Level 2 (a)       1     1   \n",
      "4  reflection_assignment_P1  Level 2 (a)       1     1   \n",
      "\n",
      "                                             Segment  \n",
      "0  I am a newbie in data science (DS). On the one...  \n",
      "1  However, the handling of data in basic cogniti...  \n",
      "2  The HCDS course was largely aimed at a critica...  \n",
      "3  Among these topics, some messages particularly...  \n",
      "4  First of all, I became aware of the importance...  \n"
     ]
    }
   ],
   "source": [
    "df = pd.read_csv(\"Coded_Segments.csv\")\n",
    "print(df.head())"
   ]
  },
  {
   "cell_type": "code",
   "execution_count": 4,
   "id": "8d4a94ba-6598-419b-a1ba-506d4c182c6d",
   "metadata": {},
   "outputs": [
    {
     "data": {
      "text/plain": [
       "Code\n",
       "Level 3        90\n",
       "Level 1        69\n",
       "Level 2 (b)    41\n",
       "Level 2 (a)    31\n",
       "Level 4         6\n",
       "Name: count, dtype: int64"
      ]
     },
     "execution_count": 4,
     "metadata": {},
     "output_type": "execute_result"
    }
   ],
   "source": [
    "df['Code'].value_counts()"
   ]
  },
  {
   "cell_type": "code",
   "execution_count": 5,
   "id": "9b1cb1dc-7076-4e07-9f37-4daa972dcb5c",
   "metadata": {},
   "outputs": [
    {
     "data": {
      "text/plain": [
       "(array([69.,  0., 31.,  0.,  0., 41.,  0., 90.,  0.,  6.]),\n",
       " array([0. , 0.4, 0.8, 1.2, 1.6, 2. , 2.4, 2.8, 3.2, 3.6, 4. ]),\n",
       " <BarContainer object of 10 artists>)"
      ]
     },
     "execution_count": 5,
     "metadata": {},
     "output_type": "execute_result"
    },
    {
     "data": {
      "image/png": "[encoded data removed]",
      "text/plain": [
       "<Figure size 640x480 with 1 Axes>"
      ]
     },
     "metadata": {},
     "output_type": "display_data"
    }
   ],
   "source": [
    "plt.hist(sorted(df['Code']))"
   ]
  },
  {
   "cell_type": "code",
   "execution_count": 6,
   "id": "50f2fb84-4329-4653-894d-0996d96ac8b2",
   "metadata": {},
   "outputs": [],
   "source": [
    "def preprocess_data(df: pd.DataFrame) -> pd.DataFrame:\n",
    "    le = LabelEncoder()\n",
    "    df['class'] = le.fit_transform(df['Code'])\n",
    "\n",
    "    # handle imbalanced dataset\n",
    "    ros = RandomOverSampler(random_state=42)\n",
    "    X_resampled, y_resampled = ros.fit_resample(df[['Segment']], df['class'])\n",
    "    df_resampled = pd.DataFrame({'Segment': X_resampled['Segment'], 'class': y_resampled})\n",
    "\n",
    "    print(f\"Original dataset shape: {df.shape}\")\n",
    "    print(f\"Resampled dataset shape: {df_resampled.shape}\")\n",
    "\n",
    "    return df_resampled, le"
   ]
  },
  {
   "cell_type": "code",
   "execution_count": 7,
   "id": "20714124-c9cc-4de9-923e-a732d5fcc6bb",
   "metadata": {},
   "outputs": [
    {
     "name": "stdout",
     "output_type": "stream",
     "text": [
      "Original dataset shape: (237, 6)\n",
      "Resampled dataset shape: (450, 2)\n",
      "                                               Segment  class\n",
      "0    I am a newbie in data science (DS). On the one...      0\n",
      "1    However, the handling of data in basic cogniti...      0\n",
      "2    The HCDS course was largely aimed at a critica...      0\n",
      "3    Among these topics, some messages particularly...      1\n",
      "4    First of all, I became aware of the importance...      1\n",
      "..                                                 ...    ...\n",
      "445  The first concern, to begin  with, is to check...      4\n",
      "446  The first concern, to begin  with, is to check...      4\n",
      "447  Social nuances have shown how important it is ...      4\n",
      "448  It also made me realise the high personal resp...      4\n",
      "449  As an when my experience grew, I started to un...      4\n",
      "\n",
      "[450 rows x 2 columns]\n"
     ]
    }
   ],
   "source": [
    "df_resampled, label_encoder = preprocess_data(df)\n",
    "print(df_resampled)"
   ]
  },
  {
   "cell_type": "code",
   "execution_count": 8,
   "id": "40594027-c99b-4c68-92b8-e03f3cb1a75b",
   "metadata": {},
   "outputs": [
    {
     "data": {
      "text/plain": [
       "class\n",
       "0    90\n",
       "1    90\n",
       "4    90\n",
       "2    90\n",
       "3    90\n",
       "Name: count, dtype: int64"
      ]
     },
     "execution_count": 8,
     "metadata": {},
     "output_type": "execute_result"
    }
   ],
   "source": [
    "df_resampled['class'].value_counts()"
   ]
  },
  {
   "cell_type": "code",
   "execution_count": 9,
   "id": "1b9cac4e-2974-4981-af05-56672f879099",
   "metadata": {},
   "outputs": [
    {
     "data": {
      "text/plain": [
       "(array([90.,  0., 90.,  0.,  0., 90.,  0., 90.,  0., 90.]),\n",
       " array([0. , 0.4, 0.8, 1.2, 1.6, 2. , 2.4, 2.8, 3.2, 3.6, 4. ]),\n",
       " <BarContainer object of 10 artists>)"
      ]
     },
     "execution_count": 9,
     "metadata": {},
     "output_type": "execute_result"
    },
    {
     "data": {
      "image/png": "[encoded data removed]",
      "text/plain": [
       "<Figure size 640x480 with 1 Axes>"
      ]
     },
     "metadata": {},
     "output_type": "display_data"
    }
   ],
   "source": [
    "plt.hist(sorted(df_resampled['class']))"
   ]
  },
  {
   "cell_type": "code",
   "execution_count": 10,
   "id": "c9855e4f-634c-4420-98fe-09282681fe5b",
   "metadata": {},
   "outputs": [
    {
     "name": "stdout",
     "output_type": "stream",
     "text": [
      "Validation Set Results:\n",
      "Accuracy: 0.84\n",
      "Cohen's Kappa: 0.79\n",
      "Classification Report:\n",
      "              precision    recall  f1-score   support\n",
      "\n",
      "           0       1.00      0.62      0.76        13\n",
      "           1       1.00      0.93      0.96        14\n",
      "           2       0.63      0.92      0.75        13\n",
      "           3       0.69      0.69      0.69        13\n",
      "           4       1.00      1.00      1.00        14\n",
      "\n",
      "    accuracy                           0.84        67\n",
      "   macro avg       0.86      0.83      0.83        67\n",
      "weighted avg       0.87      0.84      0.84        67\n",
      "\n"
     ]
    },
    {
     "data": {
      "image/png": "[encoded data removed]",
      "text/plain": [
       "<Figure size 600x400 with 2 Axes>"
      ]
     },
     "metadata": {},
     "output_type": "display_data"
    },
    {
     "name": "stdout",
     "output_type": "stream",
     "text": [
      "\n",
      "Test Set Results:\n",
      "Accuracy: 0.87\n",
      "Cohen's Kappa: 0.83\n",
      "Classification Report:\n",
      "              precision    recall  f1-score   support\n",
      "\n",
      "           0       1.00      0.79      0.88        14\n",
      "           1       1.00      0.77      0.87        13\n",
      "           2       0.81      0.93      0.87        14\n",
      "           3       0.75      0.86      0.80        14\n",
      "           4       0.87      1.00      0.93        13\n",
      "\n",
      "    accuracy                           0.87        68\n",
      "   macro avg       0.89      0.87      0.87        68\n",
      "weighted avg       0.88      0.87      0.87        68\n",
      "\n"
     ]
    },
    {
     "data": {
      "image/png": "[encoded data removed]",
      "text/plain": [
       "<Figure size 600x400 with 2 Axes>"
      ]
     },
     "metadata": {},
     "output_type": "display_data"
    }
   ],
   "source": [
    "# Preprocessing\n",
    "# Split into training, validation and test sets\n",
    "train_df, temp_df = train_test_split(df_resampled, test_size=0.3, stratify=df_resampled['class'], random_state=42)\n",
    "val_df, test_df = train_test_split(temp_df, test_size=0.5, stratify=temp_df['class'], random_state=42)\n",
    "\n",
    "# Extract text and labels\n",
    "X_train, y_train = train_df['Segment'], train_df['class']\n",
    "X_val, y_val = val_df['Segment'], val_df['class']\n",
    "X_test, y_test = test_df['Segment'], test_df['class']\n",
    "\n",
    "# Convert text to numerical features using TF-IDF\n",
    "vectorizer = TfidfVectorizer(ngram_range=(1, 1), max_features=5000)\n",
    "X_train_tfidf = vectorizer.fit_transform(X_train)\n",
    "X_val_tfidf = vectorizer.transform(X_val)\n",
    "X_test_tfidf = vectorizer.transform(X_test)\n",
    "\n",
    "# Train the Naive Bayes classifier\n",
    "nb_model = MultinomialNB()\n",
    "nb_model.fit(X_train_tfidf, y_train)\n",
    "\n",
    "# Evaluate on validation and test sets\n",
    "nb_y_val_pred = nb_model.predict(X_val_tfidf)\n",
    "nb_y_test_pred = nb_model.predict(X_test_tfidf)\n",
    "\n",
    "# Metrics for validation set\n",
    "nb_val_accuracy = accuracy_score(y_val, nb_y_val_pred)\n",
    "nb_val_class_report = classification_report(y_val, nb_y_val_pred, zero_division=0)\n",
    "nb_val_cohen_kappa = cohen_kappa_score(y_val, nb_y_val_pred)\n",
    "nb_val_cm = confusion_matrix(y_val, nb_y_val_pred)\n",
    "\n",
    "# Metrics for test set\n",
    "nb_test_accuracy = accuracy_score(y_test, nb_y_test_pred)\n",
    "nb_test_class_report = classification_report(y_test, nb_y_test_pred, zero_division=0)\n",
    "nb_test_cohen_kappa = cohen_kappa_score(y_test, nb_y_test_pred)\n",
    "nb_test_cm = confusion_matrix(y_test, nb_y_test_pred)\n",
    "\n",
    "# Print results\n",
    "print(\"Validation Set Results:\")\n",
    "print(f\"Accuracy: {nb_val_accuracy:.2f}\")\n",
    "print(f\"Cohen's Kappa: {nb_val_cohen_kappa:.2f}\")\n",
    "print(\"Classification Report:\")\n",
    "print(nb_val_class_report)\n",
    "plt.figure(figsize=(6,4))\n",
    "sns.heatmap(nb_val_cm, annot=True, fmt='d', cmap='Blues', xticklabels=sorted(set(y_val)), yticklabels=sorted(set(y_val)))\n",
    "plt.xlabel(\"Predicted Label\")\n",
    "plt.ylabel(\"True Label\")\n",
    "plt.title(\"Validation Confusion Matrix\")\n",
    "plt.show()\n",
    "\n",
    "print(\"\\nTest Set Results:\")\n",
    "print(f\"Accuracy: {nb_test_accuracy:.2f}\")\n",
    "print(f\"Cohen's Kappa: {nb_test_cohen_kappa:.2f}\")\n",
    "print(\"Classification Report:\")\n",
    "print(nb_test_class_report)\n",
    "plt.figure(figsize=(6,4))\n",
    "sns.heatmap(nb_test_cm, annot=True, fmt='d', cmap='Blues', xticklabels=sorted(set(y_test)), yticklabels=sorted(set(y_test)))\n",
    "plt.xlabel(\"Predicted Label\")\n",
    "plt.ylabel(\"True Label\")\n",
    "plt.title(\"Test Confusion Matrix\")\n",
    "plt.show()"
   ]
  },
  {
   "cell_type": "code",
   "execution_count": 11,
   "id": "1875f449-533b-4636-8801-0dad1318dc48",
   "metadata": {},
   "outputs": [
    {
     "name": "stdout",
     "output_type": "stream",
     "text": [
      "\n",
      "Top words for class 0:\n",
      "science: -6.7162\n",
      "we: -6.7051\n",
      "model: -6.7015\n",
      "is: -6.6601\n",
      "in: -6.6061\n",
      "of: -6.4058\n",
      "and: -6.2914\n",
      "data: -6.2660\n",
      "to: -6.2477\n",
      "the: -5.6639\n",
      "\n",
      "Top words for class 1:\n",
      "course: -6.7696\n",
      "be: -6.7129\n",
      "assignments: -6.7081\n",
      "human: -6.6646\n",
      "science: -6.5073\n",
      "to: -6.4257\n",
      "of: -6.3650\n",
      "data: -6.3580\n",
      "and: -6.2519\n",
      "the: -5.7604\n",
      "\n",
      "Top words for class 2:\n",
      "in: -6.6081\n",
      "this: -6.5479\n",
      "data: -6.5308\n",
      "course: -6.5278\n",
      "as: -6.5197\n",
      "was: -6.4105\n",
      "and: -6.3697\n",
      "of: -6.2057\n",
      "to: -6.1969\n",
      "the: -5.5438\n",
      "\n",
      "Top words for class 3:\n",
      "would: -6.7487\n",
      "as: -6.7302\n",
      "is: -6.6996\n",
      "be: -6.6507\n",
      "data: -6.5774\n",
      "in: -6.5738\n",
      "of: -6.3571\n",
      "and: -6.2091\n",
      "to: -6.1096\n",
      "the: -5.6772\n",
      "\n",
      "Top words for class 4:\n",
      "be: -6.4015\n",
      "in: -6.3999\n",
      "have: -6.3751\n",
      "social: -6.3231\n",
      "and: -6.2411\n",
      "that: -6.1959\n",
      "is: -5.9624\n",
      "of: -5.9026\n",
      "to: -5.7805\n",
      "the: -5.5036\n"
     ]
    }
   ],
   "source": [
    "# Get the feature names (words) from the TF-IDF vectorizer\n",
    "feature_names = np.array(vectorizer.get_feature_names_out())\n",
    "\n",
    "# Get the log probabilities for each feature (word) for each class\n",
    "class_feature_log_prob = nb_model.feature_log_prob_\n",
    "\n",
    "# For each class, find the most important words\n",
    "for class_idx, class_log_probs in enumerate(class_feature_log_prob):\n",
    "    print(f\"\\nTop words for class {class_idx}:\")\n",
    "\n",
    "    # Get the indices of the top 10 least associated words (sorted by importance)\n",
    "    top10_idx = class_log_probs.argsort()[-10:]\n",
    "\n",
    "    # Display the words and their importance\n",
    "    for idx in top10_idx:\n",
    "        print(f\"{feature_names[idx]}: {class_log_probs[idx]:.4f}\")"
   ]
  },
  {
   "cell_type": "code",
   "execution_count": 12,
   "id": "3f59d1fc-1df2-4e14-942d-dbd0ca53b872",
   "metadata": {},
   "outputs": [
    {
     "name": "stdout",
     "output_type": "stream",
     "text": [
      "Top 20 least associated words overall:\n",
      "with: -7.0205\n",
      "have: -7.0165\n",
      "science: -6.9857\n",
      "course: -6.9424\n",
      "are: -6.9141\n",
      "was: -6.9017\n",
      "as: -6.8872\n",
      "for: -6.8834\n",
      "on: -6.8682\n",
      "this: -6.8349\n",
      "it: -6.8111\n",
      "that: -6.7359\n",
      "be: -6.7168\n",
      "in: -6.6015\n",
      "is: -6.5936\n",
      "data: -6.4725\n",
      "and: -6.2726\n",
      "of: -6.2472\n",
      "to: -6.1521\n",
      "the: -5.6298\n"
     ]
    }
   ],
   "source": [
    "# Average log probabilities across all classes\n",
    "global_feature_importance = np.mean(class_feature_log_prob, axis=0)\n",
    "\n",
    "# Get the bottom 20 words\n",
    "top20_global_idx = global_feature_importance.argsort()[-20:]\n",
    "\n",
    "print(\"Top 20 least associated words overall:\")\n",
    "for idx in top20_global_idx:\n",
    "    print(f\"{feature_names[idx]}: {global_feature_importance[idx]:.4f}\")"
   ]
  }
 ],
 "metadata": {
  "kernelspec": {
   "display_name": "Python 3 (ipykernel)",
   "language": "python",
   "name": "python3"
  },
  "language_info": {
   "codemirror_mode": {
    "name": "ipython",
    "version": 3
   },
   "file_extension": ".py",
   "mimetype": "text/x-python",
   "name": "python",
   "nbconvert_exporter": "python",
   "pygments_lexer": "ipython3",
   "version": "3.12.4"
  }
 },
 "nbformat": 4,
 "nbformat_minor": 5
}
